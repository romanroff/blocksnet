{
 "cells": [
  {
   "cell_type": "markdown",
   "id": "2b501d14",
   "metadata": {},
   "source": [
    "# Population imputing"
   ]
  },
  {
   "cell_type": "code",
   "execution_count": 86,
   "id": "3f00b280",
   "metadata": {},
   "outputs": [
    {
     "data": {
      "application/vnd.microsoft.datawrangler.viewer.v0+json": {
       "columns": [
        {
         "name": "index",
         "rawType": "int64",
         "type": "integer"
        },
        {
         "name": "living_area",
         "rawType": "float64",
         "type": "float"
        },
        {
         "name": "population",
         "rawType": "float64",
         "type": "float"
        }
       ],
       "ref": "d0ae0fbf-714d-43cf-8079-1e501f7b6380",
       "rows": [
        [
         "0",
         "0.0",
         "0.0"
        ],
        [
         "1",
         "0.0",
         "0.0"
        ],
        [
         "2",
         "4197.188632965088",
         "109.0"
        ],
        [
         "3",
         "3033.795606613159",
         "77.0"
        ],
        [
         "4",
         "20860.965881347656",
         "431.0"
        ]
       ],
       "shape": {
        "columns": 2,
        "rows": 5
       }
      },
      "text/html": [
       "<div>\n",
       "<style scoped>\n",
       "    .dataframe tbody tr th:only-of-type {\n",
       "        vertical-align: middle;\n",
       "    }\n",
       "\n",
       "    .dataframe tbody tr th {\n",
       "        vertical-align: top;\n",
       "    }\n",
       "\n",
       "    .dataframe thead th {\n",
       "        text-align: right;\n",
       "    }\n",
       "</style>\n",
       "<table border=\"1\" class=\"dataframe\">\n",
       "  <thead>\n",
       "    <tr style=\"text-align: right;\">\n",
       "      <th></th>\n",
       "      <th>living_area</th>\n",
       "      <th>population</th>\n",
       "    </tr>\n",
       "  </thead>\n",
       "  <tbody>\n",
       "    <tr>\n",
       "      <th>0</th>\n",
       "      <td>0.000000</td>\n",
       "      <td>0.0</td>\n",
       "    </tr>\n",
       "    <tr>\n",
       "      <th>1</th>\n",
       "      <td>0.000000</td>\n",
       "      <td>0.0</td>\n",
       "    </tr>\n",
       "    <tr>\n",
       "      <th>2</th>\n",
       "      <td>4197.188633</td>\n",
       "      <td>109.0</td>\n",
       "    </tr>\n",
       "    <tr>\n",
       "      <th>3</th>\n",
       "      <td>3033.795607</td>\n",
       "      <td>77.0</td>\n",
       "    </tr>\n",
       "    <tr>\n",
       "      <th>4</th>\n",
       "      <td>20860.965881</td>\n",
       "      <td>431.0</td>\n",
       "    </tr>\n",
       "  </tbody>\n",
       "</table>\n",
       "</div>"
      ],
      "text/plain": [
       "    living_area  population\n",
       "0      0.000000         0.0\n",
       "1      0.000000         0.0\n",
       "2   4197.188633       109.0\n",
       "3   3033.795607        77.0\n",
       "4  20860.965881       431.0"
      ]
     },
     "execution_count": 86,
     "metadata": {},
     "output_type": "execute_result"
    }
   ],
   "source": [
    "import pandas as pd\n",
    "\n",
    "blocks_df = pd.read_pickle('./../../data/saint_petersburg/blocks.pickle')[['living_area', 'population']]\n",
    "blocks_df.head()"
   ]
  },
  {
   "cell_type": "code",
   "execution_count": 87,
   "id": "e75187b0",
   "metadata": {},
   "outputs": [
    {
     "data": {
      "application/vnd.microsoft.datawrangler.viewer.v0+json": {
       "columns": [
        {
         "name": "index",
         "rawType": "int64",
         "type": "integer"
        },
        {
         "name": "living_area",
         "rawType": "float64",
         "type": "float"
        },
        {
         "name": "population",
         "rawType": "float64",
         "type": "float"
        }
       ],
       "ref": "dd88a832-6ba9-4c5c-8256-787018924ebd",
       "rows": [
        [
         "0",
         "0.0",
         null
        ],
        [
         "1",
         "0.0",
         "0.0"
        ],
        [
         "2",
         "4197.188632965088",
         "109.0"
        ],
        [
         "3",
         "3033.795606613159",
         null
        ],
        [
         "4",
         "20860.965881347656",
         "431.0"
        ]
       ],
       "shape": {
        "columns": 2,
        "rows": 5
       }
      },
      "text/html": [
       "<div>\n",
       "<style scoped>\n",
       "    .dataframe tbody tr th:only-of-type {\n",
       "        vertical-align: middle;\n",
       "    }\n",
       "\n",
       "    .dataframe tbody tr th {\n",
       "        vertical-align: top;\n",
       "    }\n",
       "\n",
       "    .dataframe thead th {\n",
       "        text-align: right;\n",
       "    }\n",
       "</style>\n",
       "<table border=\"1\" class=\"dataframe\">\n",
       "  <thead>\n",
       "    <tr style=\"text-align: right;\">\n",
       "      <th></th>\n",
       "      <th>living_area</th>\n",
       "      <th>population</th>\n",
       "    </tr>\n",
       "  </thead>\n",
       "  <tbody>\n",
       "    <tr>\n",
       "      <th>0</th>\n",
       "      <td>0.000000</td>\n",
       "      <td>NaN</td>\n",
       "    </tr>\n",
       "    <tr>\n",
       "      <th>1</th>\n",
       "      <td>0.000000</td>\n",
       "      <td>0.0</td>\n",
       "    </tr>\n",
       "    <tr>\n",
       "      <th>2</th>\n",
       "      <td>4197.188633</td>\n",
       "      <td>109.0</td>\n",
       "    </tr>\n",
       "    <tr>\n",
       "      <th>3</th>\n",
       "      <td>3033.795607</td>\n",
       "      <td>NaN</td>\n",
       "    </tr>\n",
       "    <tr>\n",
       "      <th>4</th>\n",
       "      <td>20860.965881</td>\n",
       "      <td>431.0</td>\n",
       "    </tr>\n",
       "  </tbody>\n",
       "</table>\n",
       "</div>"
      ],
      "text/plain": [
       "    living_area  population\n",
       "0      0.000000         NaN\n",
       "1      0.000000         0.0\n",
       "2   4197.188633       109.0\n",
       "3   3033.795607         NaN\n",
       "4  20860.965881       431.0"
      ]
     },
     "execution_count": 87,
     "metadata": {},
     "output_type": "execute_result"
    }
   ],
   "source": [
    "import numpy as np\n",
    "\n",
    "frac = 0.2  \n",
    "\n",
    "np.random.seed(42)\n",
    "\n",
    "n = int(len(blocks_df) * frac)\n",
    "idx = np.random.choice(blocks_df.index, size=n, replace=False)\n",
    "\n",
    "blocks_df.loc[idx, \"population\"] = None\n",
    "blocks_df.head()"
   ]
  },
  {
   "cell_type": "code",
   "execution_count": 88,
   "id": "96ac2a0b",
   "metadata": {},
   "outputs": [
    {
     "data": {
      "text/plain": [
       "np.float64(4410417.0)"
      ]
     },
     "execution_count": 88,
     "metadata": {},
     "output_type": "execute_result"
    }
   ],
   "source": [
    "blocks_df.population.sum()"
   ]
  },
  {
   "cell_type": "code",
   "execution_count": 89,
   "id": "f0a8bdb3",
   "metadata": {},
   "outputs": [
    {
     "name": "stderr",
     "output_type": "stream",
     "text": [
      "\u001b[32m2025-10-07 19:38:54.748\u001b[0m | \u001b[1mINFO    \u001b[0m | \u001b[36mblocksnet.preprocessing.imputing.population.core\u001b[0m:\u001b[36mimpute_population\u001b[0m:\u001b[36m43\u001b[0m - \u001b[1mDistributing 1589583 population between 1906 rows\u001b[0m\n"
     ]
    },
    {
     "data": {
      "application/vnd.microsoft.datawrangler.viewer.v0+json": {
       "columns": [
        {
         "name": "index",
         "rawType": "int64",
         "type": "integer"
        },
        {
         "name": "living_area",
         "rawType": "float64",
         "type": "float"
        },
        {
         "name": "population",
         "rawType": "float64",
         "type": "float"
        }
       ],
       "ref": "2b263ed2-e959-4658-b2e9-008f42541b38",
       "rows": [
        [
         "0",
         "0.0",
         "0.0"
        ],
        [
         "1",
         "0.0",
         "0.0"
        ],
        [
         "2",
         "4197.188632965088",
         "109.0"
        ],
        [
         "3",
         "3033.795606613159",
         "139.0"
        ],
        [
         "4",
         "20860.965881347656",
         "431.0"
        ]
       ],
       "shape": {
        "columns": 2,
        "rows": 5
       }
      },
      "text/html": [
       "<div>\n",
       "<style scoped>\n",
       "    .dataframe tbody tr th:only-of-type {\n",
       "        vertical-align: middle;\n",
       "    }\n",
       "\n",
       "    .dataframe tbody tr th {\n",
       "        vertical-align: top;\n",
       "    }\n",
       "\n",
       "    .dataframe thead th {\n",
       "        text-align: right;\n",
       "    }\n",
       "</style>\n",
       "<table border=\"1\" class=\"dataframe\">\n",
       "  <thead>\n",
       "    <tr style=\"text-align: right;\">\n",
       "      <th></th>\n",
       "      <th>living_area</th>\n",
       "      <th>population</th>\n",
       "    </tr>\n",
       "  </thead>\n",
       "  <tbody>\n",
       "    <tr>\n",
       "      <th>0</th>\n",
       "      <td>0.000000</td>\n",
       "      <td>0.0</td>\n",
       "    </tr>\n",
       "    <tr>\n",
       "      <th>1</th>\n",
       "      <td>0.000000</td>\n",
       "      <td>0.0</td>\n",
       "    </tr>\n",
       "    <tr>\n",
       "      <th>2</th>\n",
       "      <td>4197.188633</td>\n",
       "      <td>109.0</td>\n",
       "    </tr>\n",
       "    <tr>\n",
       "      <th>3</th>\n",
       "      <td>3033.795607</td>\n",
       "      <td>139.0</td>\n",
       "    </tr>\n",
       "    <tr>\n",
       "      <th>4</th>\n",
       "      <td>20860.965881</td>\n",
       "      <td>431.0</td>\n",
       "    </tr>\n",
       "  </tbody>\n",
       "</table>\n",
       "</div>"
      ],
      "text/plain": [
       "    living_area  population\n",
       "0      0.000000         0.0\n",
       "1      0.000000         0.0\n",
       "2   4197.188633       109.0\n",
       "3   3033.795607       139.0\n",
       "4  20860.965881       431.0"
      ]
     },
     "execution_count": 89,
     "metadata": {},
     "output_type": "execute_result"
    }
   ],
   "source": [
    "from blocksnet.preprocessing.imputing import impute_population\n",
    "\n",
    "pop_df = impute_population(blocks_df, 6_000_000)\n",
    "pop_df.head()"
   ]
  },
  {
   "cell_type": "code",
   "execution_count": 91,
   "id": "46e6d8c2",
   "metadata": {},
   "outputs": [
    {
     "data": {
      "text/plain": [
       "np.float64(6000000.0)"
      ]
     },
     "execution_count": 91,
     "metadata": {},
     "output_type": "execute_result"
    }
   ],
   "source": [
    "pop_df.population.sum()"
   ]
  }
 ],
 "metadata": {
  "kernelspec": {
   "display_name": ".venv",
   "language": "python",
   "name": "python3"
  },
  "language_info": {
   "codemirror_mode": {
    "name": "ipython",
    "version": 3
   },
   "file_extension": ".py",
   "mimetype": "text/x-python",
   "name": "python",
   "nbconvert_exporter": "python",
   "pygments_lexer": "ipython3",
   "version": "3.10.12"
  }
 },
 "nbformat": 4,
 "nbformat_minor": 5
}
