{
 "cells": [
  {
   "cell_type": "markdown",
   "id": "2b501d14",
   "metadata": {},
   "source": [
    "# Population imputing"
   ]
  },
  {
   "cell_type": "code",
   "execution_count": 4,
   "id": "1ccb9f3e",
   "metadata": {},
   "outputs": [
    {
     "data": {
      "text/html": [
       "<div>\n",
       "<style scoped>\n",
       "    .dataframe tbody tr th:only-of-type {\n",
       "        vertical-align: middle;\n",
       "    }\n",
       "\n",
       "    .dataframe tbody tr th {\n",
       "        vertical-align: top;\n",
       "    }\n",
       "\n",
       "    .dataframe thead th {\n",
       "        text-align: right;\n",
       "    }\n",
       "</style>\n",
       "<table border=\"1\" class=\"dataframe\">\n",
       "  <thead>\n",
       "    <tr style=\"text-align: right;\">\n",
       "      <th></th>\n",
       "      <th>geometry</th>\n",
       "      <th>site_area</th>\n",
       "      <th>residential</th>\n",
       "      <th>business</th>\n",
       "      <th>recreation</th>\n",
       "      <th>industrial</th>\n",
       "      <th>transport</th>\n",
       "      <th>special</th>\n",
       "      <th>agriculture</th>\n",
       "      <th>land_use</th>\n",
       "      <th>...</th>\n",
       "      <th>capacity_prison</th>\n",
       "      <th>count_prison</th>\n",
       "      <th>capacity_landfill</th>\n",
       "      <th>count_landfill</th>\n",
       "      <th>capacity_plant_nursery</th>\n",
       "      <th>count_plant_nursery</th>\n",
       "      <th>capacity_greenhouse_complex</th>\n",
       "      <th>count_greenhouse_complex</th>\n",
       "      <th>capacity_warehouse</th>\n",
       "      <th>count_warehouse</th>\n",
       "    </tr>\n",
       "  </thead>\n",
       "  <tbody>\n",
       "    <tr>\n",
       "      <th>0</th>\n",
       "      <td>POLYGON ((349424.859 6631180.891, 349424.751 6...</td>\n",
       "      <td>0.032316</td>\n",
       "      <td>0.000</td>\n",
       "      <td>0.0</td>\n",
       "      <td>0.000000</td>\n",
       "      <td>0.0</td>\n",
       "      <td>1.000000</td>\n",
       "      <td>0.0</td>\n",
       "      <td>0.000000</td>\n",
       "      <td>LandUse.TRANSPORT</td>\n",
       "      <td>...</td>\n",
       "      <td>0.0</td>\n",
       "      <td>0.0</td>\n",
       "      <td>0.0</td>\n",
       "      <td>0.0</td>\n",
       "      <td>0.0</td>\n",
       "      <td>0.0</td>\n",
       "      <td>0.0</td>\n",
       "      <td>0.0</td>\n",
       "      <td>0.0</td>\n",
       "      <td>0.0</td>\n",
       "    </tr>\n",
       "    <tr>\n",
       "      <th>1</th>\n",
       "      <td>POLYGON ((352083.617 6633950.146, 352240.448 6...</td>\n",
       "      <td>137101.088247</td>\n",
       "      <td>0.099</td>\n",
       "      <td>0.0</td>\n",
       "      <td>0.079912</td>\n",
       "      <td>0.0</td>\n",
       "      <td>0.401072</td>\n",
       "      <td>0.0</td>\n",
       "      <td>0.417018</td>\n",
       "      <td>LandUse.AGRICULTURE</td>\n",
       "      <td>...</td>\n",
       "      <td>0.0</td>\n",
       "      <td>0.0</td>\n",
       "      <td>0.0</td>\n",
       "      <td>0.0</td>\n",
       "      <td>0.0</td>\n",
       "      <td>0.0</td>\n",
       "      <td>0.0</td>\n",
       "      <td>0.0</td>\n",
       "      <td>0.0</td>\n",
       "      <td>0.0</td>\n",
       "    </tr>\n",
       "  </tbody>\n",
       "</table>\n",
       "<p>2 rows × 137 columns</p>\n",
       "</div>"
      ],
      "text/plain": [
       "                                            geometry      site_area  \\\n",
       "0  POLYGON ((349424.859 6631180.891, 349424.751 6...       0.032316   \n",
       "1  POLYGON ((352083.617 6633950.146, 352240.448 6...  137101.088247   \n",
       "\n",
       "   residential  business  recreation  industrial  transport  special  \\\n",
       "0        0.000       0.0    0.000000         0.0   1.000000      0.0   \n",
       "1        0.099       0.0    0.079912         0.0   0.401072      0.0   \n",
       "\n",
       "   agriculture             land_use  ...  capacity_prison  count_prison  \\\n",
       "0     0.000000    LandUse.TRANSPORT  ...              0.0           0.0   \n",
       "1     0.417018  LandUse.AGRICULTURE  ...              0.0           0.0   \n",
       "\n",
       "   capacity_landfill  count_landfill  capacity_plant_nursery  \\\n",
       "0                0.0             0.0                     0.0   \n",
       "1                0.0             0.0                     0.0   \n",
       "\n",
       "   count_plant_nursery  capacity_greenhouse_complex  count_greenhouse_complex  \\\n",
       "0                  0.0                          0.0                       0.0   \n",
       "1                  0.0                          0.0                       0.0   \n",
       "\n",
       "   capacity_warehouse  count_warehouse  \n",
       "0                 0.0              0.0  \n",
       "1                 0.0              0.0  \n",
       "\n",
       "[2 rows x 137 columns]"
      ]
     },
     "execution_count": 4,
     "metadata": {},
     "output_type": "execute_result"
    }
   ],
   "source": [
    "import pandas as pd\n",
    "\n",
    "blocks_gdf = pd.read_pickle('./../../data/saint_petersburg/blocks.pickle')\n",
    "blocks_gdf.head(2)"
   ]
  },
  {
   "cell_type": "code",
   "execution_count": null,
   "id": "893e0c2c",
   "metadata": {},
   "outputs": [],
   "source": [
    "def impute_population(df : pd.DataFrame) -> pd.DataFrame:\n",
    "    df = df.copy()\n",
    "    return df"
   ]
  },
  {
   "cell_type": "code",
   "execution_count": 6,
   "id": "578009ba",
   "metadata": {},
   "outputs": [
    {
     "data": {
      "text/plain": [
       "np.float64(5477076.0)"
      ]
     },
     "execution_count": 6,
     "metadata": {},
     "output_type": "execute_result"
    }
   ],
   "source": [
    "blocks_gdf.population.sum()"
   ]
  }
 ],
 "metadata": {
  "kernelspec": {
   "display_name": ".venv",
   "language": "python",
   "name": "python3"
  },
  "language_info": {
   "codemirror_mode": {
    "name": "ipython",
    "version": 3
   },
   "file_extension": ".py",
   "mimetype": "text/x-python",
   "name": "python",
   "nbconvert_exporter": "python",
   "pygments_lexer": "ipython3",
   "version": "3.10.12"
  }
 },
 "nbformat": 4,
 "nbformat_minor": 5
}
