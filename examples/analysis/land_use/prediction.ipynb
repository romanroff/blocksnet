{
 "cells": [
  {
   "cell_type": "markdown",
   "id": "4b69fb12",
   "metadata": {},
   "source": [
    "# Land Use prediction"
   ]
  },
  {
   "cell_type": "code",
   "execution_count": null,
   "id": "d9e0df4a",
   "metadata": {},
   "outputs": [],
   "source": [
    "import pandas as pd\n",
    "blocks_gdf = pd.read_pickle('./../../data/saint_petersburg/blocks.pickle')"
   ]
  },
  {
   "cell_type": "code",
   "execution_count": null,
   "id": "490c4f13",
   "metadata": {},
   "outputs": [],
   "source": [
    "from blocksnet.analysis.land_use.prediction import SpatialClassifier"
   ]
  },
  {
   "cell_type": "code",
   "execution_count": null,
   "id": "ec9ba1dd",
   "metadata": {},
   "outputs": [],
   "source": [
    "classifier = SpatialClassifier.default()\n",
    "result = classifier.run(blocks_gdf)"
   ]
  },
  {
   "cell_type": "code",
   "execution_count": 25,
   "id": "93f96afc",
   "metadata": {},
   "outputs": [
    {
     "data": {
      "text/html": [
       "<div>\n",
       "<style scoped>\n",
       "    .dataframe tbody tr th:only-of-type {\n",
       "        vertical-align: middle;\n",
       "    }\n",
       "\n",
       "    .dataframe tbody tr th {\n",
       "        vertical-align: top;\n",
       "    }\n",
       "\n",
       "    .dataframe thead th {\n",
       "        text-align: right;\n",
       "    }\n",
       "</style>\n",
       "<table border=\"1\" class=\"dataframe\">\n",
       "  <thead>\n",
       "    <tr style=\"text-align: right;\">\n",
       "      <th></th>\n",
       "      <th>geometry</th>\n",
       "      <th>category</th>\n",
       "      <th>pred_name</th>\n",
       "      <th>prob_urban</th>\n",
       "      <th>prob_non_urban</th>\n",
       "      <th>prob_industrial</th>\n",
       "    </tr>\n",
       "  </thead>\n",
       "  <tbody>\n",
       "    <tr>\n",
       "      <th>0</th>\n",
       "      <td>POLYGON ((0 0, 1 0, 1 1, 0 1, 0 0))</td>\n",
       "      <td>LandUseCategory.URBAN</td>\n",
       "      <td>non_urban</td>\n",
       "      <td>0.351396</td>\n",
       "      <td>0.480452</td>\n",
       "      <td>0.168152</td>\n",
       "    </tr>\n",
       "    <tr>\n",
       "      <th>1</th>\n",
       "      <td>POLYGON ((1 0, 2 0, 2 1, 1 1, 1 0))</td>\n",
       "      <td>LandUseCategory.URBAN</td>\n",
       "      <td>non_urban</td>\n",
       "      <td>0.345072</td>\n",
       "      <td>0.492949</td>\n",
       "      <td>0.161979</td>\n",
       "    </tr>\n",
       "    <tr>\n",
       "      <th>2</th>\n",
       "      <td>POLYGON ((0 1, 1 1, 1 2, 0 2, 0 1))</td>\n",
       "      <td>LandUseCategory.INDUSTRIAL</td>\n",
       "      <td>non_urban</td>\n",
       "      <td>0.344711</td>\n",
       "      <td>0.485752</td>\n",
       "      <td>0.169537</td>\n",
       "    </tr>\n",
       "  </tbody>\n",
       "</table>\n",
       "</div>"
      ],
      "text/plain": [
       "                              geometry                    category  pred_name  \\\n",
       "0  POLYGON ((0 0, 1 0, 1 1, 0 1, 0 0))       LandUseCategory.URBAN  non_urban   \n",
       "1  POLYGON ((1 0, 2 0, 2 1, 1 1, 1 0))       LandUseCategory.URBAN  non_urban   \n",
       "2  POLYGON ((0 1, 1 1, 1 2, 0 2, 0 1))  LandUseCategory.INDUSTRIAL  non_urban   \n",
       "\n",
       "   prob_urban  prob_non_urban  prob_industrial  \n",
       "0    0.351396        0.480452         0.168152  \n",
       "1    0.345072        0.492949         0.161979  \n",
       "2    0.344711        0.485752         0.169537  "
      ]
     },
     "execution_count": 25,
     "metadata": {},
     "output_type": "execute_result"
    }
   ],
   "source": [
    "result"
   ]
  },
  {
   "cell_type": "markdown",
   "id": "831a9075",
   "metadata": {},
   "source": [
    "# Land Use Train Mode"
   ]
  },
  {
   "cell_type": "code",
   "execution_count": null,
   "id": "b759be1b",
   "metadata": {},
   "outputs": [],
   "source": [
    "import os\n",
    "from xgboost import XGBClassifier\n",
    "from lightgbm import LGBMClassifier\n",
    "from sklearn.ensemble import RandomForestClassifier, HistGradientBoostingClassifier\n",
    "\n",
    "from blocksnet.analysis.land_use.prediction import SpatialClassifier\n",
    "from blocksnet.machine_learning.strategy.sklearn.ensemble.voting.classification_strategy import SKLearnVotingClassificationStrategy"
   ]
  },
  {
   "cell_type": "code",
   "execution_count": null,
   "id": "09aab66a",
   "metadata": {},
   "outputs": [],
   "source": [
    "import pandas as pd\n",
    "blocks_gdf = pd.read_pickle('./../../data/saint_petersburg/blocks.pickle')"
   ]
  },
  {
   "cell_type": "code",
   "execution_count": null,
   "id": "32125c7e",
   "metadata": {},
   "outputs": [],
   "source": [
    "# 1. Инициализация и обучение\n",
    "BASE_PARAMS = {\"random_state\": 42, \"n_jobs\": -1}\n",
    "CPU = max(1, min(8, os.cpu_count() or 1))\n",
    "MODEL_PARAMS = {\n",
    "    \"rf\": {\n",
    "        \"n_estimators\": 120,          # было 200\n",
    "        \"max_depth\": 7,\n",
    "        \"class_weight\": \"balanced\",\n",
    "        \"max_samples\": 0.25,          # 🔴 бэггинг на подвыборке\n",
    "        \"min_samples_leaf\": 10,       # стабилизация и меньше узлов\n",
    "        **BASE_PARAMS\n",
    "    },\n",
    "    \"xgb\": {\n",
    "        \"n_estimators\": 150,          # меньше\n",
    "        \"max_depth\": 7,\n",
    "        \"learning_rate\": 0.05,\n",
    "        \"subsample\": 0.8,             # стахастичность\n",
    "        \"colsample_bytree\": 0.8,\n",
    "        \"tree_method\": \"hist\",        # память/скорость\n",
    "        \"n_jobs\": CPU                 # XGB игнорирует BASE_PARAMS если его стерли\n",
    "    },\n",
    "    \"lgb\": {\n",
    "        \"n_estimators\": 200,\n",
    "        \"max_depth\": 7,\n",
    "        \"learning_rate\": 0.05,\n",
    "        \"class_weight\": \"balanced\",\n",
    "        \"num_threads\": CPU            # у LGB параметр другое имя\n",
    "    },\n",
    "    \"hgb\": {\n",
    "        \"max_iter\": 200,\n",
    "        \"max_depth\": 7,\n",
    "        \"learning_rate\": 0.05,\n",
    "        \"random_state\": 42\n",
    "    }\n",
    "}\n",
    "estimators = [\n",
    "    (\"rf\",  RandomForestClassifier(**MODEL_PARAMS[\"rf\"])),\n",
    "    (\"xgb\", XGBClassifier(**MODEL_PARAMS[\"xgb\"])),\n",
    "    (\"lgb\", LGBMClassifier(**MODEL_PARAMS[\"lgb\"])),\n",
    "    (\"hgb\", HistGradientBoostingClassifier(**MODEL_PARAMS[\"hgb\"])),\n",
    "]\n",
    "\n",
    "strategy = SKLearnVotingClassificationStrategy(estimators, {\"voting\": \"soft\", \"n_jobs\": -1})\n",
    "classifier = SpatialClassifier(strategy, 1000, 5)\n",
    "score = classifier.train(blocks_gdf)"
   ]
  }
 ],
 "metadata": {
  "kernelspec": {
   "display_name": ".venv",
   "language": "python",
   "name": "python3"
  },
  "language_info": {
   "codemirror_mode": {
    "name": "ipython",
    "version": 3
   },
   "file_extension": ".py",
   "mimetype": "text/x-python",
   "name": "python",
   "nbconvert_exporter": "python",
   "pygments_lexer": "ipython3",
   "version": "3.10.11"
  }
 },
 "nbformat": 4,
 "nbformat_minor": 5
}
