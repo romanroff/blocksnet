{
 "cells": [
  {
   "cell_type": "markdown",
   "id": "37d70044",
   "metadata": {},
   "source": [
    "# Socio-economic indicators aggregation"
   ]
  },
  {
   "cell_type": "code",
   "execution_count": 1,
   "id": "f26cae3c",
   "metadata": {},
   "outputs": [],
   "source": [
    "import pandas as pd\n",
    "\n",
    "blocks_gdf = pd.read_pickle('./../../../data/saint_petersburg/blocks.pickle')"
   ]
  },
  {
   "cell_type": "code",
   "execution_count": 2,
   "id": "467ec198",
   "metadata": {},
   "outputs": [],
   "source": [
    "from blocksnet.analysis.indicators.socio_economic import SocioEconomicAggregator\n",
    "\n",
    "aggregator = SocioEconomicAggregator()"
   ]
  },
  {
   "cell_type": "code",
   "execution_count": 3,
   "id": "88043721",
   "metadata": {},
   "outputs": [
    {
     "name": "stdout",
     "output_type": "stream",
     "text": [
      "Количество индикаторов для агрегации: 87\n"
     ]
    }
   ],
   "source": [
    "from blocksnet.analysis.indicators.socio_economic import (\n",
    "    GeneralIndicator, \n",
    "    DemographicIndicator, \n",
    "    SettlementIndicator, \n",
    "    TransportIndicator, \n",
    "    EconomicIndicator, \n",
    "    EcologicalIndicator, \n",
    "    EngineeringIndicator, \n",
    "    SocialCountIndicator,\n",
    "    SocialProvisionIndicator\n",
    ")\n",
    "\n",
    "count = 0\n",
    "for enum in [\n",
    "    GeneralIndicator, \n",
    "    DemographicIndicator, \n",
    "    SettlementIndicator, \n",
    "    TransportIndicator, \n",
    "    EconomicIndicator, \n",
    "    EcologicalIndicator, \n",
    "    EngineeringIndicator, \n",
    "    SocialCountIndicator,\n",
    "    SocialProvisionIndicator\n",
    "]:\n",
    "    count += len([e for e in enum if e.meta.aggregatable])\n",
    "\n",
    "print(f\"Количество индикаторов для агрегации: {count}\")"
   ]
  },
  {
   "cell_type": "code",
   "execution_count": 4,
   "id": "8938d0aa",
   "metadata": {},
   "outputs": [],
   "source": [
    "aggregator.add(DemographicIndicator.POPULATION, 100, 1000, 10000)"
   ]
  },
  {
   "cell_type": "code",
   "execution_count": 5,
   "id": "b6e5aa06",
   "metadata": {},
   "outputs": [
    {
     "ename": "ValueError",
     "evalue": "Indicator SocialProvisionIndicator.SCHOOL is not aggregatable.",
     "output_type": "error",
     "traceback": [
      "\u001b[0;31m---------------------------------------------------------------------------\u001b[0m",
      "\u001b[0;31mValueError\u001b[0m                                Traceback (most recent call last)",
      "Cell \u001b[0;32mIn[5], line 1\u001b[0m\n\u001b[0;32m----> 1\u001b[0m \u001b[43maggregator\u001b[49m\u001b[38;5;241;43m.\u001b[39;49m\u001b[43madd\u001b[49m\u001b[43m(\u001b[49m\u001b[43mSocialProvisionIndicator\u001b[49m\u001b[38;5;241;43m.\u001b[39;49m\u001b[43mSCHOOL\u001b[49m\u001b[43m,\u001b[49m\u001b[43m \u001b[49m\u001b[38;5;241;43m0.5\u001b[39;49m\u001b[43m,\u001b[49m\u001b[43m \u001b[49m\u001b[38;5;241;43m0.8\u001b[39;49m\u001b[43m,\u001b[49m\u001b[43m \u001b[49m\u001b[38;5;241;43m0.9\u001b[39;49m\u001b[43m)\u001b[49m\n",
      "File \u001b[0;32m~/masterplanning/blocksnet/analysis/indicators/socio_economic/aggregator.py:28\u001b[0m, in \u001b[0;36mvalidate_indicator.<locals>.deco.<locals>.wrapper\u001b[0;34m(self, indicator, *args, **kwargs)\u001b[0m\n\u001b[1;32m     26\u001b[0m name \u001b[38;5;241m=\u001b[39m \u001b[38;5;28mgetattr\u001b[39m(indicator, \u001b[38;5;124m\"\u001b[39m\u001b[38;5;124mname\u001b[39m\u001b[38;5;124m\"\u001b[39m, \u001b[38;5;28mstr\u001b[39m(indicator))\n\u001b[1;32m     27\u001b[0m \u001b[38;5;28;01mif\u001b[39;00m \u001b[38;5;129;01mnot\u001b[39;00m indicator\u001b[38;5;241m.\u001b[39mmeta\u001b[38;5;241m.\u001b[39maggregatable:\n\u001b[0;32m---> 28\u001b[0m     \u001b[38;5;28;01mraise\u001b[39;00m \u001b[38;5;167;01mValueError\u001b[39;00m(\u001b[38;5;124mf\u001b[39m\u001b[38;5;124m\"\u001b[39m\u001b[38;5;124mIndicator \u001b[39m\u001b[38;5;132;01m{\u001b[39;00m\u001b[38;5;28mcls\u001b[39m\u001b[38;5;132;01m}\u001b[39;00m\u001b[38;5;124m.\u001b[39m\u001b[38;5;132;01m{\u001b[39;00mname\u001b[38;5;132;01m}\u001b[39;00m\u001b[38;5;124m is not aggregatable.\u001b[39m\u001b[38;5;124m\"\u001b[39m)\n\u001b[1;32m     29\u001b[0m \u001b[38;5;28;01mif\u001b[39;00m require \u001b[38;5;129;01mand\u001b[39;00m indicator \u001b[38;5;129;01mnot\u001b[39;00m \u001b[38;5;129;01min\u001b[39;00m \u001b[38;5;28mself\u001b[39m\u001b[38;5;241m.\u001b[39m_data:\n\u001b[1;32m     30\u001b[0m     \u001b[38;5;28;01mraise\u001b[39;00m \u001b[38;5;167;01mKeyError\u001b[39;00m(\u001b[38;5;124mf\u001b[39m\u001b[38;5;124m\"\u001b[39m\u001b[38;5;124mIndicator \u001b[39m\u001b[38;5;132;01m{\u001b[39;00m\u001b[38;5;28mcls\u001b[39m\u001b[38;5;132;01m}\u001b[39;00m\u001b[38;5;124m.\u001b[39m\u001b[38;5;132;01m{\u001b[39;00mname\u001b[38;5;132;01m}\u001b[39;00m\u001b[38;5;124m not found in self.\u001b[39m\u001b[38;5;124m\"\u001b[39m)\n",
      "\u001b[0;31mValueError\u001b[0m: Indicator SocialProvisionIndicator.SCHOOL is not aggregatable."
     ]
    }
   ],
   "source": [
    "aggregator.add(SocialProvisionIndicator.SCHOOL, 0.5, 0.8, 0.9)"
   ]
  },
  {
   "cell_type": "code",
   "execution_count": null,
   "id": "92080d44",
   "metadata": {},
   "outputs": [
    {
     "data": {
      "text/plain": [
       "{'child_value_before': 0.5,\n",
       " 'child_value_after': 0.8,\n",
       " 'parent_value_before': 0.9,\n",
       " 'parent_value_after': 1.2000000000000002}"
      ]
     },
     "execution_count": 6,
     "metadata": {},
     "output_type": "execute_result"
    }
   ],
   "source": [
    "aggregator.aggregate(SocialProvisionIndicator.SCHOOL)"
   ]
  }
 ],
 "metadata": {
  "kernelspec": {
   "display_name": ".venv",
   "language": "python",
   "name": "python3"
  },
  "language_info": {
   "codemirror_mode": {
    "name": "ipython",
    "version": 3
   },
   "file_extension": ".py",
   "mimetype": "text/x-python",
   "name": "python",
   "nbconvert_exporter": "python",
   "pygments_lexer": "ipython3",
   "version": "3.10.12"
  }
 },
 "nbformat": 4,
 "nbformat_minor": 5
}
