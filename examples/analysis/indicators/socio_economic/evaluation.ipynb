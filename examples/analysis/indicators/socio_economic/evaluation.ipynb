{
 "cells": [
  {
   "cell_type": "markdown",
   "id": "a1836563",
   "metadata": {},
   "source": [
    "# Socio-economic indicators evaluation"
   ]
  },
  {
   "cell_type": "markdown",
   "id": "8e39339f",
   "metadata": {},
   "source": [
    "Read aggregated blocks spatial layer"
   ]
  },
  {
   "cell_type": "code",
   "execution_count": 1,
   "id": "faf5b7fc",
   "metadata": {},
   "outputs": [],
   "source": [
    "import pandas as pd\n",
    "\n",
    "blocks_gdf = pd.read_pickle('./../../../data/saint_petersburg/blocks.pickle')"
   ]
  },
  {
   "cell_type": "markdown",
   "id": "36768bb2",
   "metadata": {},
   "source": [
    "Read drive graph"
   ]
  },
  {
   "cell_type": "code",
   "execution_count": 2,
   "id": "adc9d845",
   "metadata": {},
   "outputs": [],
   "source": [
    "import pickle\n",
    "\n",
    "with open('./../../../data/saint_petersburg/graph_drive.pickle', \"rb\") as f:\n",
    "    graph = pickle.load(f)"
   ]
  },
  {
   "cell_type": "markdown",
   "id": "75f35f0f",
   "metadata": {},
   "source": [
    "Read drive accessibility matrix"
   ]
  },
  {
   "cell_type": "code",
   "execution_count": 3,
   "id": "4debc78d",
   "metadata": {},
   "outputs": [],
   "source": [
    "acc_mx = pd.read_pickle('./../../../data/saint_petersburg/accessibility_matrix_drive.pickle')"
   ]
  },
  {
   "cell_type": "markdown",
   "id": "d571f52d",
   "metadata": {},
   "source": [
    "## General indicators"
   ]
  },
  {
   "cell_type": "code",
   "execution_count": 4,
   "id": "e5b76da2",
   "metadata": {},
   "outputs": [
    {
     "data": {
      "text/plain": [
       "{Area (km2): 1392.283137517296, Urbanization: 0.3640140273948924}"
      ]
     },
     "execution_count": 4,
     "metadata": {},
     "output_type": "execute_result"
    }
   ],
   "source": [
    "from blocksnet.analysis.indicators.socio_economic import calculate_general_indicators\n",
    "\n",
    "general_indicators = calculate_general_indicators(blocks_gdf)\n",
    "general_indicators"
   ]
  },
  {
   "cell_type": "markdown",
   "id": "47fbd362",
   "metadata": {},
   "source": [
    "## Demographic indicators"
   ]
  },
  {
   "cell_type": "code",
   "execution_count": 5,
   "id": "63b25e30",
   "metadata": {},
   "outputs": [
    {
     "data": {
      "text/plain": [
       "{Population: 5477076, Density (people/km2): 3933.880869782465}"
      ]
     },
     "execution_count": 5,
     "metadata": {},
     "output_type": "execute_result"
    }
   ],
   "source": [
    "from blocksnet.analysis.indicators.socio_economic import calculate_demographic_indicators\n",
    "\n",
    "demographic_indicators = calculate_demographic_indicators(blocks_gdf)\n",
    "demographic_indicators"
   ]
  },
  {
   "cell_type": "markdown",
   "id": "35215713",
   "metadata": {},
   "source": [
    "## Settlement indicators"
   ]
  },
  {
   "cell_type": "code",
   "execution_count": 6,
   "id": "77bc40a6",
   "metadata": {},
   "outputs": [],
   "source": [
    "# not calculated within blocksnet"
   ]
  },
  {
   "cell_type": "markdown",
   "id": "20f29f99",
   "metadata": {},
   "source": [
    "## Transport indicators"
   ]
  },
  {
   "cell_type": "code",
   "execution_count": 7,
   "id": "a8bb11d3",
   "metadata": {},
   "outputs": [
    {
     "data": {
      "text/plain": [
       "{Road network density (km/km2): 8.875121375198045,\n",
       " Settlements connectivity: 0.49951171875,\n",
       " Road network length (km): 12356.681834107552,\n",
       " Fuel stations count: 505,\n",
       " Average fuel station accessibility (min): 5.47265625,\n",
       " Railway stops count: 44,\n",
       " Average railway stop accessibility (min): 9.921875}"
      ]
     },
     "execution_count": 7,
     "metadata": {},
     "output_type": "execute_result"
    }
   ],
   "source": [
    "from blocksnet.analysis.indicators.socio_economic import calculate_transport_indicators\n",
    "\n",
    "transport_indicators = calculate_transport_indicators(blocks_gdf, acc_mx, graph)\n",
    "transport_indicators"
   ]
  },
  {
   "cell_type": "markdown",
   "id": "0e5ec508",
   "metadata": {},
   "source": [
    "## Economic indicators"
   ]
  },
  {
   "cell_type": "code",
   "execution_count": 8,
   "id": "73a46b08",
   "metadata": {},
   "outputs": [],
   "source": [
    "# not calculated within blocksnet"
   ]
  },
  {
   "cell_type": "markdown",
   "id": "06cf481c",
   "metadata": {},
   "source": [
    "## Ecological indicators"
   ]
  },
  {
   "cell_type": "code",
   "execution_count": 9,
   "id": "717dea7b",
   "metadata": {},
   "outputs": [],
   "source": [
    "# not calculated within blocksnet"
   ]
  },
  {
   "cell_type": "markdown",
   "id": "d014b757",
   "metadata": {},
   "source": [
    "## Engineering indicators"
   ]
  },
  {
   "cell_type": "code",
   "execution_count": 10,
   "id": "6f5b45e8",
   "metadata": {},
   "outputs": [
    {
     "data": {
      "text/plain": [
       "{Power plant: 505,\n",
       " Water intake: 1541,\n",
       " Treatment facility: 880,\n",
       " Reservoir: 14255,\n",
       " Gas distribution: 3876,\n",
       " Infrastructure object: 21057}"
      ]
     },
     "execution_count": 10,
     "metadata": {},
     "output_type": "execute_result"
    }
   ],
   "source": [
    "from blocksnet.analysis.indicators.socio_economic import calculate_engineering_indicators\n",
    "\n",
    "tmp_gdf = blocks_gdf.rename(columns={\n",
    "    'count_school': 'count_treatment_facility',\n",
    "    'count_kindergarten': 'count_water_intake',\n",
    "    'count_hairdresser': 'count_gas_distribution',\n",
    "    'count_fuel': 'count_power_plant',\n",
    "    'count_park': 'count_reservoir'\n",
    "})\n",
    "\n",
    "engineering_indicators = calculate_engineering_indicators(tmp_gdf)\n",
    "engineering_indicators"
   ]
  },
  {
   "cell_type": "markdown",
   "id": "7f66e763",
   "metadata": {},
   "source": [
    "## Social count indicators"
   ]
  },
  {
   "cell_type": "code",
   "execution_count": 11,
   "id": "d8db145a",
   "metadata": {},
   "outputs": [
    {
     "name": "stderr",
     "output_type": "stream",
     "text": [
      "\u001b[32m2025-10-06 13:22:10.847\u001b[0m | \u001b[33m\u001b[1mWARNING \u001b[0m | \u001b[36mblocksnet.analysis.indicators.socio_economic.social_count.core\u001b[0m:\u001b[36mcalculate_social_count_indicators\u001b[0m:\u001b[36m20\u001b[0m - \u001b[33m\u001b[1mcount_college is missing. The indicator is skipped\u001b[0m\n",
      "\u001b[32m2025-10-06 13:22:10.848\u001b[0m | \u001b[33m\u001b[1mWARNING \u001b[0m | \u001b[36mblocksnet.analysis.indicators.socio_economic.social_count.core\u001b[0m:\u001b[36mcalculate_social_count_indicators\u001b[0m:\u001b[36m20\u001b[0m - \u001b[33m\u001b[1mcount_extracurricular is missing. The indicator is skipped\u001b[0m\n",
      "\u001b[32m2025-10-06 13:22:10.850\u001b[0m | \u001b[33m\u001b[1mWARNING \u001b[0m | \u001b[36mblocksnet.analysis.indicators.socio_economic.social_count.core\u001b[0m:\u001b[36mcalculate_social_count_indicators\u001b[0m:\u001b[36m20\u001b[0m - \u001b[33m\u001b[1mcount_ambulance is missing. The indicator is skipped\u001b[0m\n",
      "\u001b[32m2025-10-06 13:22:10.850\u001b[0m | \u001b[33m\u001b[1mWARNING \u001b[0m | \u001b[36mblocksnet.analysis.indicators.socio_economic.social_count.core\u001b[0m:\u001b[36mcalculate_social_count_indicators\u001b[0m:\u001b[36m20\u001b[0m - \u001b[33m\u001b[1mcount_special_medical is missing. The indicator is skipped\u001b[0m\n",
      "\u001b[32m2025-10-06 13:22:10.851\u001b[0m | \u001b[33m\u001b[1mWARNING \u001b[0m | \u001b[36mblocksnet.analysis.indicators.socio_economic.social_count.core\u001b[0m:\u001b[36mcalculate_social_count_indicators\u001b[0m:\u001b[36m20\u001b[0m - \u001b[33m\u001b[1mcount_preventive_medical is missing. The indicator is skipped\u001b[0m\n",
      "\u001b[32m2025-10-06 13:22:10.852\u001b[0m | \u001b[33m\u001b[1mWARNING \u001b[0m | \u001b[36mblocksnet.analysis.indicators.socio_economic.social_count.core\u001b[0m:\u001b[36mcalculate_social_count_indicators\u001b[0m:\u001b[36m20\u001b[0m - \u001b[33m\u001b[1mcount_gym is missing. The indicator is skipped\u001b[0m\n",
      "\u001b[32m2025-10-06 13:22:10.853\u001b[0m | \u001b[33m\u001b[1mWARNING \u001b[0m | \u001b[36mblocksnet.analysis.indicators.socio_economic.social_count.core\u001b[0m:\u001b[36mcalculate_social_count_indicators\u001b[0m:\u001b[36m20\u001b[0m - \u001b[33m\u001b[1mcount_stadium is missing. The indicator is skipped\u001b[0m\n",
      "\u001b[32m2025-10-06 13:22:10.854\u001b[0m | \u001b[33m\u001b[1mWARNING \u001b[0m | \u001b[36mblocksnet.analysis.indicators.socio_economic.social_count.core\u001b[0m:\u001b[36mcalculate_social_count_indicators\u001b[0m:\u001b[36m20\u001b[0m - \u001b[33m\u001b[1mcount_orphanage is missing. The indicator is skipped\u001b[0m\n",
      "\u001b[32m2025-10-06 13:22:10.856\u001b[0m | \u001b[33m\u001b[1mWARNING \u001b[0m | \u001b[36mblocksnet.analysis.indicators.socio_economic.social_count.core\u001b[0m:\u001b[36mcalculate_social_count_indicators\u001b[0m:\u001b[36m20\u001b[0m - \u001b[33m\u001b[1mcount_nursing_home is missing. The indicator is skipped\u001b[0m\n",
      "\u001b[32m2025-10-06 13:22:10.857\u001b[0m | \u001b[33m\u001b[1mWARNING \u001b[0m | \u001b[36mblocksnet.analysis.indicators.socio_economic.social_count.core\u001b[0m:\u001b[36mcalculate_social_count_indicators\u001b[0m:\u001b[36m20\u001b[0m - \u001b[33m\u001b[1mcount_social_service_center is missing. The indicator is skipped\u001b[0m\n",
      "\u001b[32m2025-10-06 13:22:10.858\u001b[0m | \u001b[33m\u001b[1mWARNING \u001b[0m | \u001b[36mblocksnet.analysis.indicators.socio_economic.social_count.core\u001b[0m:\u001b[36mcalculate_social_count_indicators\u001b[0m:\u001b[36m20\u001b[0m - \u001b[33m\u001b[1mcount_library is missing. The indicator is skipped\u001b[0m\n",
      "\u001b[32m2025-10-06 13:22:10.859\u001b[0m | \u001b[33m\u001b[1mWARNING \u001b[0m | \u001b[36mblocksnet.analysis.indicators.socio_economic.social_count.core\u001b[0m:\u001b[36mcalculate_social_count_indicators\u001b[0m:\u001b[36m20\u001b[0m - \u001b[33m\u001b[1mcount_cultural_center is missing. The indicator is skipped\u001b[0m\n",
      "\u001b[32m2025-10-06 13:22:10.860\u001b[0m | \u001b[33m\u001b[1mWARNING \u001b[0m | \u001b[36mblocksnet.analysis.indicators.socio_economic.social_count.core\u001b[0m:\u001b[36mcalculate_social_count_indicators\u001b[0m:\u001b[36m20\u001b[0m - \u001b[33m\u001b[1mcount_concert_hall is missing. The indicator is skipped\u001b[0m\n",
      "\u001b[32m2025-10-06 13:22:10.860\u001b[0m | \u001b[33m\u001b[1mWARNING \u001b[0m | \u001b[36mblocksnet.analysis.indicators.socio_economic.social_count.core\u001b[0m:\u001b[36mcalculate_social_count_indicators\u001b[0m:\u001b[36m20\u001b[0m - \u001b[33m\u001b[1mcount_ice_arena is missing. The indicator is skipped\u001b[0m\n",
      "\u001b[32m2025-10-06 13:22:10.861\u001b[0m | \u001b[33m\u001b[1mWARNING \u001b[0m | \u001b[36mblocksnet.analysis.indicators.socio_economic.social_count.core\u001b[0m:\u001b[36mcalculate_social_count_indicators\u001b[0m:\u001b[36m20\u001b[0m - \u001b[33m\u001b[1mcount_eco_trail is missing. The indicator is skipped\u001b[0m\n",
      "\u001b[32m2025-10-06 13:22:10.862\u001b[0m | \u001b[33m\u001b[1mWARNING \u001b[0m | \u001b[36mblocksnet.analysis.indicators.socio_economic.social_count.core\u001b[0m:\u001b[36mcalculate_social_count_indicators\u001b[0m:\u001b[36m20\u001b[0m - \u001b[33m\u001b[1mcount_fire_station is missing. The indicator is skipped\u001b[0m\n",
      "\u001b[32m2025-10-06 13:22:10.863\u001b[0m | \u001b[33m\u001b[1mWARNING \u001b[0m | \u001b[36mblocksnet.analysis.indicators.socio_economic.social_count.core\u001b[0m:\u001b[36mcalculate_social_count_indicators\u001b[0m:\u001b[36m20\u001b[0m - \u001b[33m\u001b[1mcount_tourist_base is missing. The indicator is skipped\u001b[0m\n"
     ]
    }
   ],
   "source": [
    "from blocksnet.analysis.indicators.socio_economic import calculate_social_count_indicators\n",
    "\n",
    "sc_indicators, missing_sc_indicators = calculate_social_count_indicators(blocks_gdf)"
   ]
  },
  {
   "cell_type": "code",
   "execution_count": 12,
   "id": "846eeeaf",
   "metadata": {},
   "outputs": [
    {
     "data": {
      "text/plain": [
       "{Kindergarten: 1541,\n",
       " School: 880,\n",
       " University: 226,\n",
       " Hospital: 127,\n",
       " Polyclinic: 252,\n",
       " Sanatorium: 77,\n",
       " Pharmacy: 2176,\n",
       " Swimming pool: 83,\n",
       " Pitch: 2746,\n",
       " Post: 324,\n",
       " Bank: 995,\n",
       " Multifunctional center: 57,\n",
       " Museum: 264,\n",
       " Theatre: 112,\n",
       " Cinema: 71,\n",
       " Mall: 273,\n",
       " Park: 14255,\n",
       " Beach: 91,\n",
       " Police: 343,\n",
       " Hotel: 729,\n",
       " Hostel: 195,\n",
       " Cafe: 3325}"
      ]
     },
     "execution_count": 12,
     "metadata": {},
     "output_type": "execute_result"
    }
   ],
   "source": [
    "sc_indicators"
   ]
  },
  {
   "cell_type": "code",
   "execution_count": 13,
   "id": "673fdd7b",
   "metadata": {},
   "outputs": [
    {
     "data": {
      "text/plain": [
       "[College,\n",
       " Extracurricular,\n",
       " Ambulance,\n",
       " Special medical,\n",
       " Preventive medical,\n",
       " Gym,\n",
       " Stadium,\n",
       " Orphanage,\n",
       " Nursing home,\n",
       " Social service center,\n",
       " Library,\n",
       " Cultural center,\n",
       " Concert hall,\n",
       " Ice arena,\n",
       " Eco trail,\n",
       " Fire station,\n",
       " Tourist base]"
      ]
     },
     "execution_count": 13,
     "metadata": {},
     "output_type": "execute_result"
    }
   ],
   "source": [
    "missing_sc_indicators"
   ]
  },
  {
   "cell_type": "markdown",
   "id": "bd3e0a56",
   "metadata": {},
   "source": [
    "## Social provision indicators"
   ]
  },
  {
   "cell_type": "code",
   "execution_count": 14,
   "id": "aab97549",
   "metadata": {},
   "outputs": [
    {
     "data": {
      "text/plain": [
       "np.float64(1764358.0)"
      ]
     },
     "execution_count": 14,
     "metadata": {},
     "output_type": "execute_result"
    }
   ],
   "source": [
    "blocks_gdf.capacity_university.sum()"
   ]
  },
  {
   "cell_type": "code",
   "execution_count": 15,
   "id": "88866349",
   "metadata": {},
   "outputs": [
    {
     "data": {
      "text/plain": [
       "np.float64(71201.988)"
      ]
     },
     "execution_count": 15,
     "metadata": {},
     "output_type": "execute_result"
    }
   ],
   "source": [
    "blocks_gdf.population.sum() / 1000 * 13"
   ]
  },
  {
   "cell_type": "code",
   "execution_count": 16,
   "id": "89011192",
   "metadata": {},
   "outputs": [
    {
     "name": "stderr",
     "output_type": "stream",
     "text": [
      " 36%|███▌      | 14/39 [08:44<15:35, 37.44s/it]\n"
     ]
    },
    {
     "ename": "PulpSolverError",
     "evalue": "Pulp: Error while trying to execute, use msg=True for more details/home/vasilstar/masterplanning/.venv/lib/python3.10/site-packages/pulp/solverdir/cbc/linux/64/cbc",
     "output_type": "error",
     "traceback": [
      "\u001b[0;31m---------------------------------------------------------------------------\u001b[0m",
      "\u001b[0;31mPulpSolverError\u001b[0m                           Traceback (most recent call last)",
      "Cell \u001b[0;32mIn[16], line 3\u001b[0m\n\u001b[1;32m      1\u001b[0m \u001b[38;5;28;01mfrom\u001b[39;00m \u001b[38;5;21;01mblocksnet\u001b[39;00m\u001b[38;5;21;01m.\u001b[39;00m\u001b[38;5;21;01manalysis\u001b[39;00m\u001b[38;5;21;01m.\u001b[39;00m\u001b[38;5;21;01mindicators\u001b[39;00m\u001b[38;5;21;01m.\u001b[39;00m\u001b[38;5;21;01msocio_economic\u001b[39;00m \u001b[38;5;28;01mimport\u001b[39;00m calculate_social_provision_indicators\n\u001b[0;32m----> 3\u001b[0m sp_indicators, missing_sp_indicators \u001b[38;5;241m=\u001b[39m \u001b[43mcalculate_social_provision_indicators\u001b[49m\u001b[43m(\u001b[49m\u001b[43mblocks_gdf\u001b[49m\u001b[43m,\u001b[49m\u001b[43m \u001b[49m\u001b[43macc_mx\u001b[49m\u001b[43m)\u001b[49m\n",
      "File \u001b[0;32m~/masterplanning/blocksnet/analysis/indicators/socio_economic/social_provision/core.py:37\u001b[0m, in \u001b[0;36mcalculate_social_provision_indicators\u001b[0;34m(blocks_df, acc_mx)\u001b[0m\n\u001b[1;32m     35\u001b[0m     _, demand, accessibility \u001b[38;5;241m=\u001b[39m service_types_config[name]\u001b[38;5;241m.\u001b[39mvalues()\n\u001b[1;32m     36\u001b[0m     df \u001b[38;5;241m=\u001b[39m blocks_df\u001b[38;5;241m.\u001b[39mrename(columns\u001b[38;5;241m=\u001b[39m{column: \u001b[38;5;124m\"\u001b[39m\u001b[38;5;124mcapacity\u001b[39m\u001b[38;5;124m\"\u001b[39m})\n\u001b[0;32m---> 37\u001b[0m     prov_df, _ \u001b[38;5;241m=\u001b[39m \u001b[43mcompetitive_provision\u001b[49m\u001b[43m(\u001b[49m\u001b[43mdf\u001b[49m\u001b[43m,\u001b[49m\u001b[43m \u001b[49m\u001b[43macc_mx\u001b[49m\u001b[43m,\u001b[49m\u001b[43m \u001b[49m\u001b[43maccessibility\u001b[49m\u001b[43m,\u001b[49m\u001b[43m \u001b[49m\u001b[43mdemand\u001b[49m\u001b[43m)\u001b[49m\n\u001b[1;32m     38\u001b[0m     result[indicator] \u001b[38;5;241m=\u001b[39m provision_strong_total(prov_df)\n\u001b[1;32m     40\u001b[0m log_config\u001b[38;5;241m.\u001b[39mset_disable_tqdm(disable_tqdm)\n",
      "File \u001b[0;32m~/masterplanning/blocksnet/analysis/provision/competivive/core.py:182\u001b[0m, in \u001b[0;36mcompetitive_provision\u001b[0;34m(blocks_df, accessibility_matrix, accessibility, demand, self_supply, max_depth)\u001b[0m\n\u001b[1;32m    180\u001b[0m logger\u001b[38;5;241m.\u001b[39minfo(\u001b[38;5;124m\"\u001b[39m\u001b[38;5;124mSetting and solving LP problems until max depth or break condition reached\u001b[39m\u001b[38;5;124m\"\u001b[39m)\n\u001b[1;32m    181\u001b[0m \u001b[38;5;28;01mfor\u001b[39;00m depth \u001b[38;5;129;01min\u001b[39;00m \u001b[38;5;28mrange\u001b[39m(\u001b[38;5;241m1\u001b[39m, max_depth \u001b[38;5;241m+\u001b[39m \u001b[38;5;241m1\u001b[39m):\n\u001b[0;32m--> 182\u001b[0m     blocks_df, depth_links \u001b[38;5;241m=\u001b[39m \u001b[43m_distribute_demand\u001b[49m\u001b[43m(\u001b[49m\u001b[43mblocks_df\u001b[49m\u001b[43m,\u001b[49m\u001b[43m \u001b[49m\u001b[43maccessibility_matrix\u001b[49m\u001b[43m,\u001b[49m\u001b[43m \u001b[49m\u001b[43maccessibility\u001b[49m\u001b[43m,\u001b[49m\u001b[43m \u001b[49m\u001b[43mdepth\u001b[49m\u001b[43m)\u001b[49m\n\u001b[1;32m    183\u001b[0m     links\u001b[38;5;241m.\u001b[39mextend(depth_links)\n\u001b[1;32m    184\u001b[0m     break_condition \u001b[38;5;241m=\u001b[39m blocks_df[DEMAND_LEFT_COLUMN]\u001b[38;5;241m.\u001b[39msum() \u001b[38;5;241m==\u001b[39m \u001b[38;5;241m0\u001b[39m \u001b[38;5;129;01mor\u001b[39;00m blocks_df[CAPACITY_LEFT_COLUMN]\u001b[38;5;241m.\u001b[39msum() \u001b[38;5;241m==\u001b[39m \u001b[38;5;241m0\u001b[39m\n",
      "File \u001b[0;32m~/masterplanning/blocksnet/analysis/provision/competivive/core.py:146\u001b[0m, in \u001b[0;36m_distribute_demand\u001b[0;34m(blocks_df, accessibility_matrix, accessibility, depth)\u001b[0m\n\u001b[1;32m    142\u001b[0m selection_range \u001b[38;5;241m=\u001b[39m depth \u001b[38;5;241m*\u001b[39m accessibility\n\u001b[1;32m    144\u001b[0m prob \u001b[38;5;241m=\u001b[39m _set_lp_problem(blocks_df, accessibility_matrix, selection_range)\n\u001b[0;32m--> 146\u001b[0m \u001b[43mprob\u001b[49m\u001b[38;5;241;43m.\u001b[39;49m\u001b[43msolve\u001b[49m\u001b[43m(\u001b[49m\u001b[43mPULP_CBC_CMD\u001b[49m\u001b[43m(\u001b[49m\u001b[43mmsg\u001b[49m\u001b[38;5;241;43m=\u001b[39;49m\u001b[38;5;28;43;01mFalse\u001b[39;49;00m\u001b[43m)\u001b[49m\u001b[43m)\u001b[49m\n\u001b[1;32m    148\u001b[0m \u001b[38;5;28;01mreturn\u001b[39;00m _postprocess_lp_problem(prob, blocks_df, accessibility_matrix, accessibility)\n",
      "File \u001b[0;32m~/masterplanning/.venv/lib/python3.10/site-packages/pulp/pulp.py:1913\u001b[0m, in \u001b[0;36mLpProblem.solve\u001b[0;34m(self, solver, **kwargs)\u001b[0m\n\u001b[1;32m   1911\u001b[0m \u001b[38;5;66;03m# time it\u001b[39;00m\n\u001b[1;32m   1912\u001b[0m \u001b[38;5;28mself\u001b[39m\u001b[38;5;241m.\u001b[39mstartClock()\n\u001b[0;32m-> 1913\u001b[0m status \u001b[38;5;241m=\u001b[39m \u001b[43msolver\u001b[49m\u001b[38;5;241;43m.\u001b[39;49m\u001b[43mactualSolve\u001b[49m\u001b[43m(\u001b[49m\u001b[38;5;28;43mself\u001b[39;49m\u001b[43m,\u001b[49m\u001b[43m \u001b[49m\u001b[38;5;241;43m*\u001b[39;49m\u001b[38;5;241;43m*\u001b[39;49m\u001b[43mkwargs\u001b[49m\u001b[43m)\u001b[49m\n\u001b[1;32m   1914\u001b[0m \u001b[38;5;28mself\u001b[39m\u001b[38;5;241m.\u001b[39mstopClock()\n\u001b[1;32m   1915\u001b[0m \u001b[38;5;28mself\u001b[39m\u001b[38;5;241m.\u001b[39mrestoreObjective(wasNone, dummyVar)\n",
      "File \u001b[0;32m~/masterplanning/.venv/lib/python3.10/site-packages/pulp/apis/coin_api.py:137\u001b[0m, in \u001b[0;36mCOIN_CMD.actualSolve\u001b[0;34m(self, lp, **kwargs)\u001b[0m\n\u001b[1;32m    135\u001b[0m \u001b[38;5;28;01mdef\u001b[39;00m \u001b[38;5;21mactualSolve\u001b[39m(\u001b[38;5;28mself\u001b[39m, lp, \u001b[38;5;241m*\u001b[39m\u001b[38;5;241m*\u001b[39mkwargs):\n\u001b[1;32m    136\u001b[0m \u001b[38;5;250m    \u001b[39m\u001b[38;5;124;03m\"\"\"Solve a well formulated lp problem\"\"\"\u001b[39;00m\n\u001b[0;32m--> 137\u001b[0m     \u001b[38;5;28;01mreturn\u001b[39;00m \u001b[38;5;28;43mself\u001b[39;49m\u001b[38;5;241;43m.\u001b[39;49m\u001b[43msolve_CBC\u001b[49m\u001b[43m(\u001b[49m\u001b[43mlp\u001b[49m\u001b[43m,\u001b[49m\u001b[43m \u001b[49m\u001b[38;5;241;43m*\u001b[39;49m\u001b[38;5;241;43m*\u001b[39;49m\u001b[43mkwargs\u001b[49m\u001b[43m)\u001b[49m\n",
      "File \u001b[0;32m~/masterplanning/.venv/lib/python3.10/site-packages/pulp/apis/coin_api.py:206\u001b[0m, in \u001b[0;36mCOIN_CMD.solve_CBC\u001b[0;34m(self, lp, use_mps)\u001b[0m\n\u001b[1;32m    204\u001b[0m     \u001b[38;5;28;01mif\u001b[39;00m pipe:\n\u001b[1;32m    205\u001b[0m         pipe\u001b[38;5;241m.\u001b[39mclose()\n\u001b[0;32m--> 206\u001b[0m     \u001b[38;5;28;01mraise\u001b[39;00m PulpSolverError(\n\u001b[1;32m    207\u001b[0m         \u001b[38;5;124m\"\u001b[39m\u001b[38;5;124mPulp: Error while trying to execute, use msg=True for more details\u001b[39m\u001b[38;5;124m\"\u001b[39m\n\u001b[1;32m    208\u001b[0m         \u001b[38;5;241m+\u001b[39m \u001b[38;5;28mself\u001b[39m\u001b[38;5;241m.\u001b[39mpath\n\u001b[1;32m    209\u001b[0m     )\n\u001b[1;32m    210\u001b[0m \u001b[38;5;28;01mif\u001b[39;00m pipe:\n\u001b[1;32m    211\u001b[0m     pipe\u001b[38;5;241m.\u001b[39mclose()\n",
      "\u001b[0;31mPulpSolverError\u001b[0m: Pulp: Error while trying to execute, use msg=True for more details/home/vasilstar/masterplanning/.venv/lib/python3.10/site-packages/pulp/solverdir/cbc/linux/64/cbc"
     ]
    }
   ],
   "source": [
    "from blocksnet.analysis.indicators.socio_economic import calculate_social_provision_indicators\n",
    "\n",
    "sp_indicators, missing_sp_indicators = calculate_social_provision_indicators(blocks_gdf, acc_mx)"
   ]
  },
  {
   "cell_type": "code",
   "execution_count": null,
   "id": "418b56e4",
   "metadata": {},
   "outputs": [
    {
     "data": {
      "application/vnd.microsoft.datawrangler.viewer.v0+json": {
       "columns": [
        {
         "name": "index",
         "rawType": "object",
         "type": "string"
        },
        {
         "name": "0",
         "rawType": "int64",
         "type": "integer"
        }
       ],
       "ref": "e8074f3d-9bc1-4510-ad1f-cfcc2a89e7b3",
       "rows": [
        [
         "geometry",
         "1111"
        ],
        [
         "site_area",
         "1111"
        ],
        [
         "residential",
         "1111"
        ],
        [
         "business",
         "1111"
        ],
        [
         "recreation",
         "1111"
        ],
        [
         "industrial",
         "1111"
        ],
        [
         "transport",
         "1111"
        ],
        [
         "special",
         "1111"
        ],
        [
         "agriculture",
         "1111"
        ],
        [
         "land_use",
         "1111"
        ],
        [
         "share",
         "1111"
        ],
        [
         "footprint_area",
         "1111"
        ],
        [
         "build_floor_area",
         "1111"
        ],
        [
         "living_area",
         "1111"
        ],
        [
         "non_living_area",
         "1111"
        ],
        [
         "population",
         "1111"
        ],
        [
         "count_buildings",
         "1111"
        ],
        [
         "capacity_school",
         "1111"
        ],
        [
         "count_school",
         "1111"
        ],
        [
         "capacity_kindergarten",
         "1111"
        ],
        [
         "count_kindergarten",
         "1111"
        ],
        [
         "capacity_hospital",
         "1111"
        ],
        [
         "count_hospital",
         "1111"
        ],
        [
         "capacity_polyclinic",
         "1111"
        ],
        [
         "count_polyclinic",
         "1111"
        ],
        [
         "capacity_pitch",
         "1111"
        ],
        [
         "count_pitch",
         "1111"
        ],
        [
         "capacity_swimming_pool",
         "1111"
        ],
        [
         "count_swimming_pool",
         "1111"
        ],
        [
         "capacity_theatre",
         "1111"
        ],
        [
         "count_theatre",
         "1111"
        ],
        [
         "capacity_museum",
         "1111"
        ],
        [
         "count_museum",
         "1111"
        ],
        [
         "capacity_cinema",
         "1111"
        ],
        [
         "count_cinema",
         "1111"
        ],
        [
         "capacity_mall",
         "1111"
        ],
        [
         "count_mall",
         "1111"
        ],
        [
         "capacity_convenience",
         "1111"
        ],
        [
         "count_convenience",
         "1111"
        ],
        [
         "capacity_supermarket",
         "1111"
        ],
        [
         "count_supermarket",
         "1111"
        ],
        [
         "capacity_cemetery",
         "1111"
        ],
        [
         "count_cemetery",
         "1111"
        ],
        [
         "capacity_religion",
         "1111"
        ],
        [
         "count_religion",
         "1111"
        ],
        [
         "capacity_market",
         "1111"
        ],
        [
         "count_market",
         "1111"
        ],
        [
         "capacity_university",
         "1111"
        ],
        [
         "count_university",
         "1111"
        ],
        [
         "capacity_playground",
         "1111"
        ]
       ],
       "shape": {
        "columns": 1,
        "rows": 137
       }
      },
      "text/plain": [
       "geometry                       1111\n",
       "site_area                      1111\n",
       "residential                    1111\n",
       "business                       1111\n",
       "recreation                     1111\n",
       "                               ... \n",
       "count_plant_nursery            1111\n",
       "capacity_greenhouse_complex    1111\n",
       "count_greenhouse_complex       1111\n",
       "capacity_warehouse             1111\n",
       "count_warehouse                1111\n",
       "Length: 137, dtype: int64"
      ]
     },
     "execution_count": 24,
     "metadata": {},
     "output_type": "execute_result"
    }
   ],
   "source": [
    "blocks_gdf[blocks_gdf.capacity_pitch > 0].count()"
   ]
  },
  {
   "cell_type": "code",
   "execution_count": null,
   "id": "097cbe83",
   "metadata": {},
   "outputs": [
    {
     "data": {
      "text/plain": [
       "Swimming pool"
      ]
     },
     "execution_count": 25,
     "metadata": {},
     "output_type": "execute_result"
    },
    {
     "ename": "",
     "evalue": "",
     "output_type": "error",
     "traceback": [
      "\u001b[1;31mThe Kernel crashed while executing code in the current cell or a previous cell. \n",
      "\u001b[1;31mPlease review the code in the cell(s) to identify a possible cause of the failure. \n",
      "\u001b[1;31mClick <a href='https://aka.ms/vscodeJupyterKernelCrash'>here</a> for more info. \n",
      "\u001b[1;31mView Jupyter <a href='command:jupyter.viewOutput'>log</a> for further details."
     ]
    }
   ],
   "source": [
    "from blocksnet.analysis.indicators.socio_economic import SocialProvisionIndicator\n",
    "\n",
    "list(SocialProvisionIndicator)[14]"
   ]
  },
  {
   "cell_type": "code",
   "execution_count": null,
   "id": "b63380e6",
   "metadata": {},
   "outputs": [
    {
     "data": {
      "text/plain": [
       "{Kindergarten: 1.0,\n",
       " School: 0.7439112280591567,\n",
       " University: 1.0,\n",
       " Hospital: 1.0,\n",
       " Polyclinic: 1.0,\n",
       " Sanatorium: 0.6188338449201727,\n",
       " Pharmacy: 0.5297230371339258,\n",
       " Swimming pool: 0.4204798326698406,\n",
       " Pitch: 1.0,\n",
       " Post: 0.13247488258333462,\n",
       " Bank: 1.0,\n",
       " Multifunctional center: 0.08335195640885756,\n",
       " Museum: 1.0,\n",
       " Theatre: 1.0,\n",
       " Cinema: 1.0,\n",
       " Mall: 1.0,\n",
       " Park: 1.0,\n",
       " Beach: 0.4671288110663427,\n",
       " Police: 1.0,\n",
       " Hotel: 1.0,\n",
       " Hostel: 0.2422622744122756,\n",
       " Cafe: 0.6083464972916206}"
      ]
     },
     "execution_count": 17,
     "metadata": {},
     "output_type": "execute_result"
    }
   ],
   "source": [
    "sp_indicators"
   ]
  },
  {
   "cell_type": "code",
   "execution_count": null,
   "id": "3f07260e",
   "metadata": {},
   "outputs": [
    {
     "data": {
      "text/plain": [
       "[College,\n",
       " Extracurricular,\n",
       " Ambulance,\n",
       " Special medical,\n",
       " Preventive medical,\n",
       " Gym,\n",
       " Stadium,\n",
       " Orphanage,\n",
       " Nursing home,\n",
       " Social service center,\n",
       " Library,\n",
       " Cultural center,\n",
       " Concert hall,\n",
       " Ice arena,\n",
       " Eco trail,\n",
       " Fire station,\n",
       " Tourist base]"
      ]
     },
     "execution_count": 18,
     "metadata": {},
     "output_type": "execute_result"
    }
   ],
   "source": [
    "missing_sp_indicators"
   ]
  }
 ],
 "metadata": {
  "kernelspec": {
   "display_name": ".venv",
   "language": "python",
   "name": "python3"
  },
  "language_info": {
   "codemirror_mode": {
    "name": "ipython",
    "version": 3
   },
   "file_extension": ".py",
   "mimetype": "text/x-python",
   "name": "python",
   "nbconvert_exporter": "python",
   "pygments_lexer": "ipython3",
   "version": "3.10.12"
  }
 },
 "nbformat": 4,
 "nbformat_minor": 5
}
