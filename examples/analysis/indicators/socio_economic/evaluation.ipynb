{
 "cells": [
  {
   "cell_type": "markdown",
   "id": "a1836563",
   "metadata": {},
   "source": [
    "# Socio-economic indicators evaluation"
   ]
  },
  {
   "cell_type": "markdown",
   "id": "8e39339f",
   "metadata": {},
   "source": [
    "Read aggregated blocks spatial layer"
   ]
  },
  {
   "cell_type": "code",
   "execution_count": 1,
   "id": "faf5b7fc",
   "metadata": {},
   "outputs": [],
   "source": [
    "import pandas as pd\n",
    "\n",
    "blocks_gdf = pd.read_pickle('./../../../data/saint_petersburg/blocks.pickle')"
   ]
  },
  {
   "cell_type": "markdown",
   "id": "36768bb2",
   "metadata": {},
   "source": [
    "Read drive graph"
   ]
  },
  {
   "cell_type": "code",
   "execution_count": 2,
   "id": "adc9d845",
   "metadata": {},
   "outputs": [],
   "source": [
    "import pickle\n",
    "\n",
    "with open('./../../../data/saint_petersburg/graph_drive.pickle', \"rb\") as f:\n",
    "    graph = pickle.load(f)"
   ]
  },
  {
   "cell_type": "markdown",
   "id": "75f35f0f",
   "metadata": {},
   "source": [
    "Read drive accessibility matrix"
   ]
  },
  {
   "cell_type": "code",
   "execution_count": 3,
   "id": "4debc78d",
   "metadata": {},
   "outputs": [],
   "source": [
    "acc_mx = pd.read_pickle('./../../../data/saint_petersburg/accessibility_matrix_drive.pickle')"
   ]
  },
  {
   "cell_type": "markdown",
   "id": "d571f52d",
   "metadata": {},
   "source": [
    "## General indicators"
   ]
  },
  {
   "cell_type": "code",
   "execution_count": 4,
   "id": "e5b76da2",
   "metadata": {},
   "outputs": [
    {
     "data": {
      "text/plain": [
       "{Area (km2): 1392.283137517296, Urbanization: 0.3640140273948924}"
      ]
     },
     "execution_count": 4,
     "metadata": {},
     "output_type": "execute_result"
    }
   ],
   "source": [
    "from blocksnet.analysis.indicators.socio_economic import calculate_general_indicators\n",
    "\n",
    "general_indicators = calculate_general_indicators(blocks_gdf)\n",
    "general_indicators"
   ]
  },
  {
   "cell_type": "markdown",
   "id": "47fbd362",
   "metadata": {},
   "source": [
    "## Demographic indicators"
   ]
  },
  {
   "cell_type": "code",
   "execution_count": 5,
   "id": "63b25e30",
   "metadata": {},
   "outputs": [
    {
     "data": {
      "text/plain": [
       "{Population: 5477076, Density (people/km2): 3933.880869782465}"
      ]
     },
     "execution_count": 5,
     "metadata": {},
     "output_type": "execute_result"
    }
   ],
   "source": [
    "from blocksnet.analysis.indicators.socio_economic import calculate_demographic_indicators\n",
    "\n",
    "demographic_indicators = calculate_demographic_indicators(blocks_gdf)\n",
    "demographic_indicators"
   ]
  },
  {
   "cell_type": "markdown",
   "id": "35215713",
   "metadata": {},
   "source": [
    "## Settlement indicators"
   ]
  },
  {
   "cell_type": "code",
   "execution_count": 6,
   "id": "77bc40a6",
   "metadata": {},
   "outputs": [],
   "source": [
    "# not calculated within blocksnet"
   ]
  },
  {
   "cell_type": "markdown",
   "id": "20f29f99",
   "metadata": {},
   "source": [
    "## Transport indicators"
   ]
  },
  {
   "cell_type": "code",
   "execution_count": 7,
   "id": "a8bb11d3",
   "metadata": {},
   "outputs": [
    {
     "data": {
      "text/plain": [
       "{Road network density (km/km2): 8.875121375198045,\n",
       " Settlements connectivity: 0.49951171875,\n",
       " Road network length (km): 12356.681834107552,\n",
       " Fuel stations count: 505,\n",
       " Average fuel station accessibility (min): 5.47265625,\n",
       " Railway stops count: 44,\n",
       " Average railway stop accessibility (min): 9.921875}"
      ]
     },
     "execution_count": 7,
     "metadata": {},
     "output_type": "execute_result"
    }
   ],
   "source": [
    "from blocksnet.analysis.indicators.socio_economic import calculate_transport_indicators\n",
    "\n",
    "transport_indicators = calculate_transport_indicators(blocks_gdf, acc_mx, graph)\n",
    "transport_indicators"
   ]
  },
  {
   "cell_type": "markdown",
   "id": "0e5ec508",
   "metadata": {},
   "source": [
    "## Economic indicators"
   ]
  },
  {
   "cell_type": "code",
   "execution_count": 8,
   "id": "73a46b08",
   "metadata": {},
   "outputs": [],
   "source": [
    "# not calculated within blocksnet"
   ]
  },
  {
   "cell_type": "markdown",
   "id": "06cf481c",
   "metadata": {},
   "source": [
    "## Ecological indicators"
   ]
  },
  {
   "cell_type": "code",
   "execution_count": 9,
   "id": "717dea7b",
   "metadata": {},
   "outputs": [],
   "source": [
    "# not calculated within blocksnet"
   ]
  },
  {
   "cell_type": "markdown",
   "id": "d014b757",
   "metadata": {},
   "source": [
    "## Engineering indicators"
   ]
  },
  {
   "cell_type": "code",
   "execution_count": 10,
   "id": "6f5b45e8",
   "metadata": {},
   "outputs": [
    {
     "data": {
      "text/plain": [
       "{Power plant: 505,\n",
       " Water intake: 1541,\n",
       " Treatment facility: 880,\n",
       " Reservoir: 14255,\n",
       " Gas distribution: 3876,\n",
       " Infrastructure object: 21057}"
      ]
     },
     "execution_count": 10,
     "metadata": {},
     "output_type": "execute_result"
    }
   ],
   "source": [
    "from blocksnet.analysis.indicators.socio_economic import calculate_engineering_indicators\n",
    "\n",
    "tmp_gdf = blocks_gdf.rename(columns={\n",
    "    'count_school': 'count_treatment_facility',\n",
    "    'count_kindergarten': 'count_water_intake',\n",
    "    'count_hairdresser': 'count_gas_distribution',\n",
    "    'count_fuel': 'count_power_plant',\n",
    "    'count_park': 'count_reservoir'\n",
    "})\n",
    "\n",
    "engineering_indicators = calculate_engineering_indicators(tmp_gdf)\n",
    "engineering_indicators"
   ]
  },
  {
   "cell_type": "markdown",
   "id": "7f66e763",
   "metadata": {},
   "source": [
    "## Social count indicators"
   ]
  },
  {
   "cell_type": "code",
   "execution_count": 11,
   "id": "d8db145a",
   "metadata": {},
   "outputs": [
    {
     "name": "stderr",
     "output_type": "stream",
     "text": [
      "\u001b[32m2025-10-06 05:59:28.678\u001b[0m | \u001b[33m\u001b[1mWARNING \u001b[0m | \u001b[36mblocksnet.analysis.indicators.socio_economic.social_count.core\u001b[0m:\u001b[36mcalculate_social_count_indicators\u001b[0m:\u001b[36m20\u001b[0m - \u001b[33m\u001b[1mcount_college is missing. The indicator is skipped\u001b[0m\n",
      "\u001b[32m2025-10-06 05:59:28.679\u001b[0m | \u001b[33m\u001b[1mWARNING \u001b[0m | \u001b[36mblocksnet.analysis.indicators.socio_economic.social_count.core\u001b[0m:\u001b[36mcalculate_social_count_indicators\u001b[0m:\u001b[36m20\u001b[0m - \u001b[33m\u001b[1mcount_extracurricular is missing. The indicator is skipped\u001b[0m\n",
      "\u001b[32m2025-10-06 05:59:28.679\u001b[0m | \u001b[33m\u001b[1mWARNING \u001b[0m | \u001b[36mblocksnet.analysis.indicators.socio_economic.social_count.core\u001b[0m:\u001b[36mcalculate_social_count_indicators\u001b[0m:\u001b[36m20\u001b[0m - \u001b[33m\u001b[1mcount_ambulance is missing. The indicator is skipped\u001b[0m\n",
      "\u001b[32m2025-10-06 05:59:28.680\u001b[0m | \u001b[33m\u001b[1mWARNING \u001b[0m | \u001b[36mblocksnet.analysis.indicators.socio_economic.social_count.core\u001b[0m:\u001b[36mcalculate_social_count_indicators\u001b[0m:\u001b[36m20\u001b[0m - \u001b[33m\u001b[1mcount_special_medical is missing. The indicator is skipped\u001b[0m\n",
      "\u001b[32m2025-10-06 05:59:28.681\u001b[0m | \u001b[33m\u001b[1mWARNING \u001b[0m | \u001b[36mblocksnet.analysis.indicators.socio_economic.social_count.core\u001b[0m:\u001b[36mcalculate_social_count_indicators\u001b[0m:\u001b[36m20\u001b[0m - \u001b[33m\u001b[1mcount_preventive_medical is missing. The indicator is skipped\u001b[0m\n",
      "\u001b[32m2025-10-06 05:59:28.682\u001b[0m | \u001b[33m\u001b[1mWARNING \u001b[0m | \u001b[36mblocksnet.analysis.indicators.socio_economic.social_count.core\u001b[0m:\u001b[36mcalculate_social_count_indicators\u001b[0m:\u001b[36m20\u001b[0m - \u001b[33m\u001b[1mcount_gym is missing. The indicator is skipped\u001b[0m\n",
      "\u001b[32m2025-10-06 05:59:28.683\u001b[0m | \u001b[33m\u001b[1mWARNING \u001b[0m | \u001b[36mblocksnet.analysis.indicators.socio_economic.social_count.core\u001b[0m:\u001b[36mcalculate_social_count_indicators\u001b[0m:\u001b[36m20\u001b[0m - \u001b[33m\u001b[1mcount_stadium is missing. The indicator is skipped\u001b[0m\n",
      "\u001b[32m2025-10-06 05:59:28.684\u001b[0m | \u001b[33m\u001b[1mWARNING \u001b[0m | \u001b[36mblocksnet.analysis.indicators.socio_economic.social_count.core\u001b[0m:\u001b[36mcalculate_social_count_indicators\u001b[0m:\u001b[36m20\u001b[0m - \u001b[33m\u001b[1mcount_orphanage is missing. The indicator is skipped\u001b[0m\n",
      "\u001b[32m2025-10-06 05:59:28.684\u001b[0m | \u001b[33m\u001b[1mWARNING \u001b[0m | \u001b[36mblocksnet.analysis.indicators.socio_economic.social_count.core\u001b[0m:\u001b[36mcalculate_social_count_indicators\u001b[0m:\u001b[36m20\u001b[0m - \u001b[33m\u001b[1mcount_nursing_home is missing. The indicator is skipped\u001b[0m\n",
      "\u001b[32m2025-10-06 05:59:28.685\u001b[0m | \u001b[33m\u001b[1mWARNING \u001b[0m | \u001b[36mblocksnet.analysis.indicators.socio_economic.social_count.core\u001b[0m:\u001b[36mcalculate_social_count_indicators\u001b[0m:\u001b[36m20\u001b[0m - \u001b[33m\u001b[1mcount_social_service_center is missing. The indicator is skipped\u001b[0m\n",
      "\u001b[32m2025-10-06 05:59:28.686\u001b[0m | \u001b[33m\u001b[1mWARNING \u001b[0m | \u001b[36mblocksnet.analysis.indicators.socio_economic.social_count.core\u001b[0m:\u001b[36mcalculate_social_count_indicators\u001b[0m:\u001b[36m20\u001b[0m - \u001b[33m\u001b[1mcount_library is missing. The indicator is skipped\u001b[0m\n",
      "\u001b[32m2025-10-06 05:59:28.687\u001b[0m | \u001b[33m\u001b[1mWARNING \u001b[0m | \u001b[36mblocksnet.analysis.indicators.socio_economic.social_count.core\u001b[0m:\u001b[36mcalculate_social_count_indicators\u001b[0m:\u001b[36m20\u001b[0m - \u001b[33m\u001b[1mcount_cultural_center is missing. The indicator is skipped\u001b[0m\n",
      "\u001b[32m2025-10-06 05:59:28.687\u001b[0m | \u001b[33m\u001b[1mWARNING \u001b[0m | \u001b[36mblocksnet.analysis.indicators.socio_economic.social_count.core\u001b[0m:\u001b[36mcalculate_social_count_indicators\u001b[0m:\u001b[36m20\u001b[0m - \u001b[33m\u001b[1mcount_concert_hall is missing. The indicator is skipped\u001b[0m\n",
      "\u001b[32m2025-10-06 05:59:28.688\u001b[0m | \u001b[33m\u001b[1mWARNING \u001b[0m | \u001b[36mblocksnet.analysis.indicators.socio_economic.social_count.core\u001b[0m:\u001b[36mcalculate_social_count_indicators\u001b[0m:\u001b[36m20\u001b[0m - \u001b[33m\u001b[1mcount_ice_arena is missing. The indicator is skipped\u001b[0m\n",
      "\u001b[32m2025-10-06 05:59:28.689\u001b[0m | \u001b[33m\u001b[1mWARNING \u001b[0m | \u001b[36mblocksnet.analysis.indicators.socio_economic.social_count.core\u001b[0m:\u001b[36mcalculate_social_count_indicators\u001b[0m:\u001b[36m20\u001b[0m - \u001b[33m\u001b[1mcount_eco_trail is missing. The indicator is skipped\u001b[0m\n",
      "\u001b[32m2025-10-06 05:59:28.689\u001b[0m | \u001b[33m\u001b[1mWARNING \u001b[0m | \u001b[36mblocksnet.analysis.indicators.socio_economic.social_count.core\u001b[0m:\u001b[36mcalculate_social_count_indicators\u001b[0m:\u001b[36m20\u001b[0m - \u001b[33m\u001b[1mcount_fire_station is missing. The indicator is skipped\u001b[0m\n",
      "\u001b[32m2025-10-06 05:59:28.690\u001b[0m | \u001b[33m\u001b[1mWARNING \u001b[0m | \u001b[36mblocksnet.analysis.indicators.socio_economic.social_count.core\u001b[0m:\u001b[36mcalculate_social_count_indicators\u001b[0m:\u001b[36m20\u001b[0m - \u001b[33m\u001b[1mcount_tourist_base is missing. The indicator is skipped\u001b[0m\n"
     ]
    }
   ],
   "source": [
    "from blocksnet.analysis.indicators.socio_economic import calculate_social_count_indicators\n",
    "\n",
    "sc_indicators, missing_sc_indicators = calculate_social_count_indicators(blocks_gdf)"
   ]
  },
  {
   "cell_type": "code",
   "execution_count": 12,
   "id": "846eeeaf",
   "metadata": {},
   "outputs": [
    {
     "data": {
      "text/plain": [
       "{Kindergarten: 1541,\n",
       " School: 880,\n",
       " University: 226,\n",
       " Hospital: 127,\n",
       " Polyclinic: 252,\n",
       " Sanatorium: 77,\n",
       " Pharmacy: 2176,\n",
       " Swimming pool: 83,\n",
       " Pitch: 2746,\n",
       " Post: 324,\n",
       " Bank: 995,\n",
       " Multifunctional center: 57,\n",
       " Museum: 264,\n",
       " Theatre: 112,\n",
       " Cinema: 71,\n",
       " Mall: 273,\n",
       " Park: 14255,\n",
       " Beach: 91,\n",
       " Police: 343,\n",
       " Hotel: 729,\n",
       " Hostel: 195,\n",
       " Cafe: 3325}"
      ]
     },
     "execution_count": 12,
     "metadata": {},
     "output_type": "execute_result"
    }
   ],
   "source": [
    "sc_indicators"
   ]
  },
  {
   "cell_type": "code",
   "execution_count": 13,
   "id": "673fdd7b",
   "metadata": {},
   "outputs": [
    {
     "data": {
      "text/plain": [
       "[College,\n",
       " Extracurricular,\n",
       " Ambulance,\n",
       " Special medical,\n",
       " Preventive medical,\n",
       " Gym,\n",
       " Stadium,\n",
       " Orphanage,\n",
       " Nursing home,\n",
       " Social service center,\n",
       " Library,\n",
       " Cultural center,\n",
       " Concert hall,\n",
       " Ice arena,\n",
       " Eco trail,\n",
       " Fire station,\n",
       " Tourist base]"
      ]
     },
     "execution_count": 13,
     "metadata": {},
     "output_type": "execute_result"
    }
   ],
   "source": [
    "missing_sc_indicators"
   ]
  },
  {
   "cell_type": "markdown",
   "id": "bd3e0a56",
   "metadata": {},
   "source": [
    "## Social provision indicators"
   ]
  },
  {
   "cell_type": "code",
   "execution_count": 14,
   "id": "aab97549",
   "metadata": {},
   "outputs": [
    {
     "data": {
      "text/plain": [
       "np.float64(1764358.0)"
      ]
     },
     "execution_count": 14,
     "metadata": {},
     "output_type": "execute_result"
    }
   ],
   "source": [
    "blocks_gdf.capacity_university.sum()"
   ]
  },
  {
   "cell_type": "code",
   "execution_count": 15,
   "id": "88866349",
   "metadata": {},
   "outputs": [
    {
     "data": {
      "text/plain": [
       "np.float64(71201.988)"
      ]
     },
     "execution_count": 15,
     "metadata": {},
     "output_type": "execute_result"
    }
   ],
   "source": [
    "blocks_gdf.population.sum() / 1000 * 13"
   ]
  },
  {
   "cell_type": "code",
   "execution_count": 16,
   "id": "89011192",
   "metadata": {},
   "outputs": [
    {
     "name": "stderr",
     "output_type": "stream",
     "text": [
      "\u001b[32m2025-10-06 05:59:28.788\u001b[0m | \u001b[33m\u001b[1mWARNING \u001b[0m | \u001b[36mblocksnet.analysis.indicators.socio_economic.social_provision.core\u001b[0m:\u001b[36mcalculate_social_provision_indicators\u001b[0m:\u001b[36m18\u001b[0m - \u001b[33m\u001b[1mcollege not found in config. The indicator is skipped\u001b[0m\n"
     ]
    },
    {
     "name": "stderr",
     "output_type": "stream",
     "text": [
      "\u001b[32m2025-10-06 05:59:28.807\u001b[0m | \u001b[33m\u001b[1mWARNING \u001b[0m | \u001b[36mblocksnet.analysis.indicators.socio_economic.social_provision.core\u001b[0m:\u001b[36mcalculate_social_provision_indicators\u001b[0m:\u001b[36m18\u001b[0m - \u001b[33m\u001b[1mextracurricular not found in config. The indicator is skipped\u001b[0m\n",
      "\u001b[32m2025-10-06 05:59:28.842\u001b[0m | \u001b[33m\u001b[1mWARNING \u001b[0m | \u001b[36mblocksnet.analysis.indicators.socio_economic.social_provision.core\u001b[0m:\u001b[36mcalculate_social_provision_indicators\u001b[0m:\u001b[36m18\u001b[0m - \u001b[33m\u001b[1mambulance not found in config. The indicator is skipped\u001b[0m\n",
      "\u001b[32m2025-10-06 05:59:28.859\u001b[0m | \u001b[33m\u001b[1mWARNING \u001b[0m | \u001b[36mblocksnet.analysis.indicators.socio_economic.social_provision.core\u001b[0m:\u001b[36mcalculate_social_provision_indicators\u001b[0m:\u001b[36m18\u001b[0m - \u001b[33m\u001b[1mspecial_medical not found in config. The indicator is skipped\u001b[0m\n",
      "\u001b[32m2025-10-06 05:59:28.860\u001b[0m | \u001b[33m\u001b[1mWARNING \u001b[0m | \u001b[36mblocksnet.analysis.indicators.socio_economic.social_provision.core\u001b[0m:\u001b[36mcalculate_social_provision_indicators\u001b[0m:\u001b[36m18\u001b[0m - \u001b[33m\u001b[1mpreventive_medical not found in config. The indicator is skipped\u001b[0m\n",
      "\u001b[32m2025-10-06 05:59:28.877\u001b[0m | \u001b[33m\u001b[1mWARNING \u001b[0m | \u001b[36mblocksnet.analysis.indicators.socio_economic.social_provision.core\u001b[0m:\u001b[36mcalculate_social_provision_indicators\u001b[0m:\u001b[36m18\u001b[0m - \u001b[33m\u001b[1mgym not found in config. The indicator is skipped\u001b[0m\n",
      "\u001b[32m2025-10-06 05:59:28.914\u001b[0m | \u001b[33m\u001b[1mWARNING \u001b[0m | \u001b[36mblocksnet.analysis.indicators.socio_economic.social_provision.core\u001b[0m:\u001b[36mcalculate_social_provision_indicators\u001b[0m:\u001b[36m26\u001b[0m - \u001b[33m\u001b[1mcapacity_stadium is missing. The indicator is skipped\u001b[0m\n",
      "\u001b[32m2025-10-06 05:59:28.915\u001b[0m | \u001b[33m\u001b[1mWARNING \u001b[0m | \u001b[36mblocksnet.analysis.indicators.socio_economic.social_provision.core\u001b[0m:\u001b[36mcalculate_social_provision_indicators\u001b[0m:\u001b[36m18\u001b[0m - \u001b[33m\u001b[1morphanage not found in config. The indicator is skipped\u001b[0m\n",
      "\u001b[32m2025-10-06 05:59:28.915\u001b[0m | \u001b[33m\u001b[1mWARNING \u001b[0m | \u001b[36mblocksnet.analysis.indicators.socio_economic.social_provision.core\u001b[0m:\u001b[36mcalculate_social_provision_indicators\u001b[0m:\u001b[36m26\u001b[0m - \u001b[33m\u001b[1mcapacity_nursing_home is missing. The indicator is skipped\u001b[0m\n",
      "\u001b[32m2025-10-06 05:59:28.916\u001b[0m | \u001b[33m\u001b[1mWARNING \u001b[0m | \u001b[36mblocksnet.analysis.indicators.socio_economic.social_provision.core\u001b[0m:\u001b[36mcalculate_social_provision_indicators\u001b[0m:\u001b[36m18\u001b[0m - \u001b[33m\u001b[1msocial_service_center not found in config. The indicator is skipped\u001b[0m\n",
      "\u001b[32m2025-10-06 05:59:28.966\u001b[0m | \u001b[33m\u001b[1mWARNING \u001b[0m | \u001b[36mblocksnet.analysis.indicators.socio_economic.social_provision.core\u001b[0m:\u001b[36mcalculate_social_provision_indicators\u001b[0m:\u001b[36m26\u001b[0m - \u001b[33m\u001b[1mcapacity_library is missing. The indicator is skipped\u001b[0m\n",
      "\u001b[32m2025-10-06 05:59:28.999\u001b[0m | \u001b[33m\u001b[1mWARNING \u001b[0m | \u001b[36mblocksnet.analysis.indicators.socio_economic.social_provision.core\u001b[0m:\u001b[36mcalculate_social_provision_indicators\u001b[0m:\u001b[36m18\u001b[0m - \u001b[33m\u001b[1mcultural_center not found in config. The indicator is skipped\u001b[0m\n",
      "\u001b[32m2025-10-06 05:59:29.255\u001b[0m | \u001b[33m\u001b[1mWARNING \u001b[0m | \u001b[36mblocksnet.analysis.indicators.socio_economic.social_provision.core\u001b[0m:\u001b[36mcalculate_social_provision_indicators\u001b[0m:\u001b[36m18\u001b[0m - \u001b[33m\u001b[1mconcert_hall not found in config. The indicator is skipped\u001b[0m\n",
      "\u001b[32m2025-10-06 05:59:29.256\u001b[0m | \u001b[33m\u001b[1mWARNING \u001b[0m | \u001b[36mblocksnet.analysis.indicators.socio_economic.social_provision.core\u001b[0m:\u001b[36mcalculate_social_provision_indicators\u001b[0m:\u001b[36m18\u001b[0m - \u001b[33m\u001b[1mice_arena not found in config. The indicator is skipped\u001b[0m\n",
      "\u001b[32m2025-10-06 05:59:29.302\u001b[0m | \u001b[33m\u001b[1mWARNING \u001b[0m | \u001b[36mblocksnet.analysis.indicators.socio_economic.social_provision.core\u001b[0m:\u001b[36mcalculate_social_provision_indicators\u001b[0m:\u001b[36m18\u001b[0m - \u001b[33m\u001b[1meco_trail not found in config. The indicator is skipped\u001b[0m\n",
      "\u001b[32m2025-10-06 05:59:29.303\u001b[0m | \u001b[33m\u001b[1mWARNING \u001b[0m | \u001b[36mblocksnet.analysis.indicators.socio_economic.social_provision.core\u001b[0m:\u001b[36mcalculate_social_provision_indicators\u001b[0m:\u001b[36m18\u001b[0m - \u001b[33m\u001b[1mfire_station not found in config. The indicator is skipped\u001b[0m\n",
      "\u001b[32m2025-10-06 05:59:29.349\u001b[0m | \u001b[33m\u001b[1mWARNING \u001b[0m | \u001b[36mblocksnet.analysis.indicators.socio_economic.social_provision.core\u001b[0m:\u001b[36mcalculate_social_provision_indicators\u001b[0m:\u001b[36m18\u001b[0m - \u001b[33m\u001b[1mtourist_base not found in config. The indicator is skipped\u001b[0m\n"
     ]
    }
   ],
   "source": [
    "from blocksnet.analysis.indicators.socio_economic import calculate_social_provision_indicators\n",
    "\n",
    "sp_indicators, missing_sp_indicators = calculate_social_provision_indicators(blocks_gdf)"
   ]
  },
  {
   "cell_type": "code",
   "execution_count": 17,
   "id": "b63380e6",
   "metadata": {},
   "outputs": [
    {
     "data": {
      "text/plain": [
       "{Kindergarten: 1.0,\n",
       " School: 0.7439112280591567,\n",
       " University: 1.0,\n",
       " Hospital: 1.0,\n",
       " Polyclinic: 1.0,\n",
       " Sanatorium: 0.6188338449201727,\n",
       " Pharmacy: 0.5297230371339258,\n",
       " Swimming pool: 0.4204798326698406,\n",
       " Pitch: 1.0,\n",
       " Post: 0.13247488258333462,\n",
       " Bank: 1.0,\n",
       " Multifunctional center: 0.08335195640885756,\n",
       " Museum: 1.0,\n",
       " Theatre: 1.0,\n",
       " Cinema: 1.0,\n",
       " Mall: 1.0,\n",
       " Park: 1.0,\n",
       " Beach: 0.4671288110663427,\n",
       " Police: 1.0,\n",
       " Hotel: 1.0,\n",
       " Hostel: 0.2422622744122756,\n",
       " Cafe: 0.6083464972916206}"
      ]
     },
     "execution_count": 17,
     "metadata": {},
     "output_type": "execute_result"
    }
   ],
   "source": [
    "sp_indicators"
   ]
  },
  {
   "cell_type": "code",
   "execution_count": 18,
   "id": "3f07260e",
   "metadata": {},
   "outputs": [
    {
     "data": {
      "text/plain": [
       "[College,\n",
       " Extracurricular,\n",
       " Ambulance,\n",
       " Special medical,\n",
       " Preventive medical,\n",
       " Gym,\n",
       " Stadium,\n",
       " Orphanage,\n",
       " Nursing home,\n",
       " Social service center,\n",
       " Library,\n",
       " Cultural center,\n",
       " Concert hall,\n",
       " Ice arena,\n",
       " Eco trail,\n",
       " Fire station,\n",
       " Tourist base]"
      ]
     },
     "execution_count": 18,
     "metadata": {},
     "output_type": "execute_result"
    }
   ],
   "source": [
    "missing_sp_indicators"
   ]
  }
 ],
 "metadata": {
  "kernelspec": {
   "display_name": ".venv",
   "language": "python",
   "name": "python3"
  },
  "language_info": {
   "codemirror_mode": {
    "name": "ipython",
    "version": 3
   },
   "file_extension": ".py",
   "mimetype": "text/x-python",
   "name": "python",
   "nbconvert_exporter": "python",
   "pygments_lexer": "ipython3",
   "version": "3.10.12"
  }
 },
 "nbformat": 4,
 "nbformat_minor": 5
}
