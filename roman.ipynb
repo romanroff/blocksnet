{
 "cells": [
  {
   "cell_type": "markdown",
   "id": "7aef7346",
   "metadata": {},
   "source": [
    "# Roman"
   ]
  },
  {
   "cell_type": "code",
   "execution_count": 1,
   "id": "1f182f97",
   "metadata": {},
   "outputs": [],
   "source": [
    "import pandas as pd\n",
    "\n",
    "normatives_df = pd.read_pickle('data/townsnet10/normatives.pickle')\n",
    "service_types_df = pd.read_pickle('data/townsnet10/service_types.pickle')"
   ]
  },
  {
   "cell_type": "code",
   "execution_count": 2,
   "id": "aeda9a2b",
   "metadata": {},
   "outputs": [],
   "source": [
    "import geopandas as gpd\n",
    "\n",
    "towns_gdf = gpd.read_file('data/townsnet10/towns.geojson')\n",
    "acc_mx = pd.read_pickle('data/townsnet10/acc_mx.pickle')"
   ]
  },
  {
   "cell_type": "code",
   "execution_count": 3,
   "id": "cb9d1340",
   "metadata": {},
   "outputs": [],
   "source": [
    "from townsnet.provision.service_type import ServiceType\n",
    "service_types = ServiceType.initialize_service_types(service_types_df, normatives_df)"
   ]
  },
  {
   "cell_type": "code",
   "execution_count": null,
   "id": "7260962b",
   "metadata": {},
   "outputs": [],
   "source": [
    "{\n",
    "    \n",
    "  \"Образование\": [\"Детский сад\", \"Школа\", \"Дом детского творчества\", \"Среднее специальное учебное заведение\", \"Высшее учебное заведение\"],\n",
    "  \n",
    "  \"Здравоохранение\": [\"Детская поликлиника\", \"Больница\", \"Роддом\", \"Станция скорой медицинской помощи\", \"Ветеринарная клиника\"],\n",
    "\n",
    "  \"Спорт\": [\"Спортивная площадка\", \"Бассейн\", \"Скейт-парк\", \"Детская площадка\",],\n",
    "\n",
    "  \"Социальная помощь\": [\"Детские дома-интернаты\", \"Комплексный центр социального обслуживания населения\"],\n",
    "\n",
    "  \"Услуги\": [\"Отделение банка\", \"Многофункциональные центры предоставления государственных и муниципальных услуг\", \"Банкомат\", \"Пункт выдачи\", \"Спортивный магазин\", \"Книжный магазин\", \"Хозяйственные товары\", \"Автозаправка\", \"Выход метро\", \"Супермаркет\", \"Продукты (магазин у дома)\"],\n",
    "\n",
    "  \"Культура и отдых\": [\"Театр\", \"Концертный зал\", \"Памятник\", \"Религиозный объект\", \"Библиотека\", \"Пляж\", \"Ботанический сад\", \"Сад\", \"Луг\"],\n",
    "\n",
    "  \"Безопасность\": [\"Пожарная станция\", \"Адвокат\", \"Электрическая подстанция\", \"Котельная\", \"Атомная электростанция\", \"Гидро-электростанция\", \"Тепловая электростанция\", \"Ветрогенератор\", \"ООПТ\", \"Промышленная зона\", \"Выпуски сточных вод в водоем\"],\n",
    "\n",
    "  \"Туризм\": [\"Гостиница\", \"Хостел\", \"Кафе\", \"Бар/Паб\"]\n",
    "\n",
    "}\n"
   ]
  },
  {
   "cell_type": "code",
   "execution_count": 41,
   "id": "f4138060",
   "metadata": {},
   "outputs": [
    {
     "name": "stdout",
     "output_type": "stream",
     "text": [
      "             name  is_city  median_time      coef  coef_norm  population  \\\n",
      "121  Бокситогорск     True       1026.4  0.009743   0.501342      8001.0   \n",
      "128      Пикалево     True       1067.0  0.009372   1.000000     20169.0   \n",
      "\n",
      "                           geometry  \n",
      "121  POINT (548021.065 6593118.772)  \n",
      "128  POINT (566677.086 6597763.314)  \n"
     ]
    }
   ],
   "source": [
    "print((towns_gdf[towns_gdf.is_city == True][:2]))"
   ]
  },
  {
   "cell_type": "code",
   "execution_count": 4,
   "id": "1c3178e7",
   "metadata": {},
   "outputs": [],
   "source": [
    "from townsnet.provision import ProvisionModel\n",
    "\n",
    "model = ProvisionModel(towns_gdf, acc_mx, verbose=False)"
   ]
  },
  {
   "cell_type": "code",
   "execution_count": 36,
   "id": "b37aa28a",
   "metadata": {},
   "outputs": [
    {
     "data": {
      "text/html": [
       "<div>\n",
       "<style scoped>\n",
       "    .dataframe tbody tr th:only-of-type {\n",
       "        vertical-align: middle;\n",
       "    }\n",
       "\n",
       "    .dataframe tbody tr th {\n",
       "        vertical-align: top;\n",
       "    }\n",
       "\n",
       "    .dataframe thead th {\n",
       "        text-align: right;\n",
       "    }\n",
       "</style>\n",
       "<table border=\"1\" class=\"dataframe\">\n",
       "  <thead>\n",
       "    <tr style=\"text-align: right;\">\n",
       "      <th></th>\n",
       "      <th>population</th>\n",
       "      <th>geometry</th>\n",
       "    </tr>\n",
       "  </thead>\n",
       "  <tbody>\n",
       "    <tr>\n",
       "      <th>0</th>\n",
       "      <td>111</td>\n",
       "      <td>POINT (543142.339 6580637.744)</td>\n",
       "    </tr>\n",
       "    <tr>\n",
       "      <th>1</th>\n",
       "      <td>116</td>\n",
       "      <td>POINT (544532.929 6593228.214)</td>\n",
       "    </tr>\n",
       "    <tr>\n",
       "      <th>2</th>\n",
       "      <td>116</td>\n",
       "      <td>POINT (544895.402 6593052.876)</td>\n",
       "    </tr>\n",
       "    <tr>\n",
       "      <th>3</th>\n",
       "      <td>114</td>\n",
       "      <td>POINT (543993.111 6589582.121)</td>\n",
       "    </tr>\n",
       "    <tr>\n",
       "      <th>4</th>\n",
       "      <td>108</td>\n",
       "      <td>POINT (538540.11 6576793.684)</td>\n",
       "    </tr>\n",
       "    <tr>\n",
       "      <th>...</th>\n",
       "      <td>...</td>\n",
       "      <td>...</td>\n",
       "    </tr>\n",
       "    <tr>\n",
       "      <th>2926</th>\n",
       "      <td>96</td>\n",
       "      <td>POINT (399059.742 6560341.471)</td>\n",
       "    </tr>\n",
       "    <tr>\n",
       "      <th>2927</th>\n",
       "      <td>98</td>\n",
       "      <td>POINT (403967.171 6562087.081)</td>\n",
       "    </tr>\n",
       "    <tr>\n",
       "      <th>2928</th>\n",
       "      <td>100</td>\n",
       "      <td>POINT (413116.74 6573793.279)</td>\n",
       "    </tr>\n",
       "    <tr>\n",
       "      <th>2929</th>\n",
       "      <td>101</td>\n",
       "      <td>POINT (412458.032 6574811.307)</td>\n",
       "    </tr>\n",
       "    <tr>\n",
       "      <th>2930</th>\n",
       "      <td>101</td>\n",
       "      <td>POINT (412158.909 6574630.2)</td>\n",
       "    </tr>\n",
       "  </tbody>\n",
       "</table>\n",
       "<p>2931 rows × 2 columns</p>\n",
       "</div>"
      ],
      "text/plain": [
       "      population                        geometry\n",
       "0            111  POINT (543142.339 6580637.744)\n",
       "1            116  POINT (544532.929 6593228.214)\n",
       "2            116  POINT (544895.402 6593052.876)\n",
       "3            114  POINT (543993.111 6589582.121)\n",
       "4            108   POINT (538540.11 6576793.684)\n",
       "...          ...                             ...\n",
       "2926          96  POINT (399059.742 6560341.471)\n",
       "2927          98  POINT (403967.171 6562087.081)\n",
       "2928         100   POINT (413116.74 6573793.279)\n",
       "2929         101  POINT (412458.032 6574811.307)\n",
       "2930         101    POINT (412158.909 6574630.2)\n",
       "\n",
       "[2931 rows x 2 columns]"
      ]
     },
     "execution_count": 36,
     "metadata": {},
     "output_type": "execute_result"
    }
   ],
   "source": [
    "model.towns_gdf"
   ]
  },
  {
   "cell_type": "code",
   "execution_count": 5,
   "id": "572763fe",
   "metadata": {},
   "outputs": [],
   "source": [
    "import random"
   ]
  },
  {
   "cell_type": "code",
   "execution_count": 22,
   "id": "c6eab9b7",
   "metadata": {},
   "outputs": [],
   "source": [
    "\n",
    "supplies_df = pd.DataFrame([random.randint(0,100) for _ in towns_gdf.index], columns=['supply'], index=towns_gdf.index)"
   ]
  },
  {
   "cell_type": "code",
   "execution_count": 23,
   "id": "a6f82ec4",
   "metadata": {},
   "outputs": [],
   "source": [
    "df = model.calculate(supplies_df, service_types[0])"
   ]
  },
  {
   "cell_type": "code",
   "execution_count": 43,
   "id": "63e2cb31",
   "metadata": {},
   "outputs": [],
   "source": [
    "df.to_file(f'{service_types[0].name}.geojson')"
   ]
  },
  {
   "cell_type": "code",
   "execution_count": 11,
   "id": "f64e99c2",
   "metadata": {},
   "outputs": [
    {
     "data": {
      "text/plain": [
       "'{\"type\": \"FeatureCollection\", \"features\": [{\"id\": \"0\", \"type\": \"Feature\", \"properties\": {\"population\": 111, \"demand\": 1, \"capacity\": 34, \"capacity_left\": 33, \"demand_left\": 0, \"demand_within\": 1, \"demand_without\": 0, \"provision\": 1.0}, \"geometry\": {\"type\": \"Point\", \"coordinates\": [543142.3390599252, 6580637.744157221]}}, {\"id\": \"1\", \"type\": \"Feature\", \"properties\": {\"population\": 116, \"demand\": 1, \"capacity\": 49, \"capacity_left\": 48, \"demand_left\": 0, \"demand_within\": 1, \"demand_without\": 0, \"provision\": 1.0}, \"geometry\": {\"type\": \"Point\", \"coordinates\": [544532.9287678184, 6593228.2138749]}}], \"crs\": {\"type\": \"name\", \"properties\": {\"name\": \"urn:ogc:def:crs:EPSG::32636\"}}}'"
      ]
     },
     "execution_count": 11,
     "metadata": {},
     "output_type": "execute_result"
    }
   ],
   "source": [
    "df[:2].to_json()\n"
   ]
  }
 ],
 "metadata": {
  "kernelspec": {
   "display_name": ".venv (3.10.11)",
   "language": "python",
   "name": "python3"
  },
  "language_info": {
   "codemirror_mode": {
    "name": "ipython",
    "version": 3
   },
   "file_extension": ".py",
   "mimetype": "text/x-python",
   "name": "python",
   "nbconvert_exporter": "python",
   "pygments_lexer": "ipython3",
   "version": "3.10.11"
  }
 },
 "nbformat": 4,
 "nbformat_minor": 5
}
